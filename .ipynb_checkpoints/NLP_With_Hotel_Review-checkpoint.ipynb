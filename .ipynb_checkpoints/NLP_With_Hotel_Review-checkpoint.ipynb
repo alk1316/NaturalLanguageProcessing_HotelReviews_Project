{
 "cells": [
  {
   "cell_type": "markdown",
   "id": "f880289d-39eb-4250-bfa5-be9c32f20aee",
   "metadata": {
    "id": "f880289d-39eb-4250-bfa5-be9c32f20aee"
   },
   "source": [
    "# BrainStation\n",
    "#### Project: Natural language processing (NLP) Hotel Review\n",
    "#### Author: Cristhian Lima\n",
    "#### Date: Oct 2024"
   ]
  },
  {
   "cell_type": "markdown",
   "id": "cgVea3622A5e",
   "metadata": {
    "id": "cgVea3622A5e"
   },
   "source": [
    "## Table of Contents\n",
    "---\n",
    "1. [Project Overview](#introduction)\n",
    "2. [Data Set and SetUp](#dataset)\n",
    "    - [Data Dictionary](#datadict)\n",
    "    - [Importing Libraries](#lib)\n",
    "    - [Importing the Dataset](#importdataset)\n",
    "3. [Exploratory Data Analysis (EDA)](#cleaning)\n",
    "    - [Distribution of target variable](#distribution)\n",
    "    - [Distributions of numeric attributes](#numdist)\n",
    "    - [Average_Score analysis for each hotel](#avgscore)\n",
    "    - [Nights stayed at hotels analysis](#night)\n",
    "5. [Preprocessing](#preprocessing)\n",
    "    - [Text Cleaning and Tokenization](#textclean)\n",
    "    - [Split data into Train and Test](#splitdata)\n",
    "7. [Modelling](#model)\n",
    "    - [Logistic Regression](#logreg)\n",
    "    - [Top 20 words from the positive and negative reviews that are most predictive](#topwords)\n",
    "    - [Pipeline, combine PCA with a decision tree classifier](#pipe)\n",
    "    - [Confusion matrix](#confmatrix)\n",
    "9. [Findings Summary](#findings)"
   ]
  },
  {
   "cell_type": "markdown",
   "id": "336fe30b-4b35-44ce-a2da-0cf49263e2e9",
   "metadata": {
    "id": "336fe30b-4b35-44ce-a2da-0cf49263e2e9"
   },
   "source": [
    "# 1. Project Overview <a class=\"anchor\" id=\"introduction\"></a>"
   ]
  },
  {
   "cell_type": "markdown",
   "id": "7c2d331c-89c1-4df8-a11b-f3c2d74c79a1",
   "metadata": {
    "id": "7c2d331c-89c1-4df8-a11b-f3c2d74c79a1"
   },
   "source": [
    "In this project, we aim to help Hotel Management Inc. better understand the factors that contribute to customer satisfaction and higher ratings through an analysis of hotel reviews.\n",
    "\n",
    "Using a dataset consisting of both positive and negative customer comments along with other details about each stay (e.g., location, length of stay), we predict customer satisfaction based on the Reviewer_Score, where a higher score indicates a more positive experience."
   ]
  },
  {
   "cell_type": "markdown",
   "id": "c52c7d5f-8ce7-42fa-ab7f-ed1e89e98a71",
   "metadata": {
    "id": "c52c7d5f-8ce7-42fa-ab7f-ed1e89e98a71"
   },
   "source": [
    "# 2. Data Set and SetUp <a class=\"anchor\" id=\"dataset\"></a>"
   ]
  },
  {
   "cell_type": "markdown",
   "id": "066eafd5-a8bb-4466-be94-eb952e91fbf3",
   "metadata": {
    "id": "066eafd5-a8bb-4466-be94-eb952e91fbf3"
   },
   "source": [
    "### Data Dictionary <a class=\"anchor\" id=\"datadict\"></a>\n",
    "\n",
    "<table>\n",
    "  <thead>\n",
    "    <tr>\n",
    "      <th>Column Name</th>\n",
    "      <th>Description</th>\n",
    "    </tr>\n",
    "  </thead>\n",
    "  <tbody>\n",
    "    <tr>\n",
    "      <td>Additional_Number_of_Scoring</td>\n",
    "      <td>The number of additional scores provided by the reviewer.</td>\n",
    "    </tr>\n",
    "    <tr>\n",
    "      <td>Average_Score</td>\n",
    "      <td>The average score the hotel received over time.</td>\n",
    "    </tr>\n",
    "    <tr>\n",
    "      <td>Negative_Review</td>\n",
    "      <td>The text of the negative review provided by the customer.</td>\n",
    "    </tr>\n",
    "    <tr>\n",
    "      <td>Review_Total_Negative_Word_Counts</td>\n",
    "      <td>The total number of words in the negative review.</td>\n",
    "    </tr>\n",
    "    <tr>\n",
    "      <td>Total_Number_of_Reviews</td>\n",
    "      <td>The total number of reviews the hotel has received.</td>\n",
    "    </tr>\n",
    "    <tr>\n",
    "      <td>Positive_Review</td>\n",
    "      <td>The text of the positive review provided by the customer.</td>\n",
    "    </tr>\n",
    "    <tr>\n",
    "      <td>Review_Total_Positive_Word_Counts</td>\n",
    "      <td>The total number of words in the positive review.</td>\n",
    "    </tr>\n",
    "    <tr>\n",
    "      <td>Total_Number_of_Reviews_Reviewer_Has_Given</td>\n",
    "      <td>The total number of reviews given by the reviewer.</td>\n",
    "    </tr>\n",
    "    <tr>\n",
    "      <td>Reviewer_Score</td>\n",
    "      <td>The score given by the reviewer, where 1 indicates positive sentiment and 0 indicates negative sentiment.</td>\n",
    "    </tr>\n",
    "    <tr>\n",
    "      <td>Days_Since_Review</td>\n",
    "      <td>The number of days since the review was posted.</td>\n",
    "    </tr>\n",
    "    <tr>\n",
    "      <td>Latitude</td>\n",
    "      <td>Latitude of the hotel's location.</td>\n",
    "    </tr>\n",
    "    <tr>\n",
    "      <td>Longitude</td>\n",
    "      <td>Longitude of the hotel's location.</td>\n",
    "    </tr>\n",
    "    <tr>\n",
    "      <td>Day</td>\n",
    "      <td>The day the review was posted.</td>\n",
    "    </tr>\n",
    "    <tr>\n",
    "      <td>Month</td>\n",
    "      <td>The month the review was posted.</td>\n",
    "    </tr>\n",
    "    <tr>\n",
    "      <td>Year</td>\n",
    "      <td>The year the review was posted.</td>\n",
    "    </tr>\n",
    "    <tr>\n",
    "      <td>Reviewer_Nationality_Australia</td>\n",
    "      <td>Binary: 1 if the reviewer is from Australia, 0 if not.</td>\n",
    "    </tr>\n",
    "    <tr>\n",
    "      <td>Reviewer_Nationality_Ireland</td>\n",
    "      <td>Binary: 1 if the reviewer is from Ireland, 0 if not.</td>\n",
    "    </tr>\n",
    "    <tr>\n",
    "      <td>Reviewer_Nationality_UAE</td>\n",
    "      <td>Binary: 1 if the reviewer is from the UAE, 0 if not.</td>\n",
    "    </tr>\n",
    "    <tr>\n",
    "      <td>Reviewer_Nationality_UK</td>\n",
    "      <td>Binary: 1 if the reviewer is from the UK, 0 if not.</td>\n",
    "    </tr>\n",
    "    <tr>\n",
    "      <td>Reviewer_Nationality_USA</td>\n",
    "      <td>Binary: 1 if the reviewer is from the USA, 0 if not.</td>\n",
    "    </tr>\n",
    "    <tr>\n",
    "      <td>Reviewer_Nationality_Other</td>\n",
    "      <td>Binary: 1 if the reviewer is from any country other than the ones explicitly listed, 0 if not.</td>\n",
    "    </tr>\n",
    "    <tr>\n",
    "      <td>Hotel_Address_Amsterdam</td>\n",
    "      <td>Binary: 1 if the hotel is located in Amsterdam, 0 if not.</td>\n",
    "    </tr>\n",
    "    <tr>\n",
    "      <td>Hotel_Address_Barcelona</td>\n",
    "      <td>Binary: 1 if the hotel is located in Barcelona, 0 if not.</td>\n",
    "    </tr>\n",
    "    <tr>\n",
    "      <td>Hotel_Address_London</td>\n",
    "      <td>Binary: 1 if the hotel is located in London, 0 if not.</td>\n",
    "    </tr>\n",
    "    <tr>\n",
    "      <td>Hotel_Address_Milan</td>\n",
    "      <td>Binary: 1 if the hotel is located in Milan, 0 if not.</td>\n",
    "    </tr>\n",
    "    <tr>\n",
    "      <td>Hotel_Address_Paris</td>\n",
    "      <td>Binary: 1 if the hotel is located in Paris, 0 if not.</td>\n",
    "    </tr>\n",
    "    <tr>\n",
    "      <td>Hotel_Address_Vienna</td>\n",
    "      <td>Binary: 1 if the hotel is located in Vienna, 0 if not.</td>\n",
    "    </tr>\n",
    "    <tr>\n",
    "      <td>Leisure_Trip</td>\n",
    "      <td>Binary: 1 if the trip was a leisure trip, 0 if not.</td>\n",
    "    </tr>\n",
    "    <tr>\n",
    "      <td>Nights_Stayed</td>\n",
    "      <td>The number of nights the reviewer stayed at the hotel.</td>\n",
    "    </tr>\n",
    "  </tbody>\n",
    "</table>\n"
   ]
  },
  {
   "cell_type": "markdown",
   "id": "6a159db9-efa2-465a-b08e-965b9c2ba7f1",
   "metadata": {
    "id": "6a159db9-efa2-465a-b08e-965b9c2ba7f1"
   },
   "source": [
    "## Importing Libraries <a class=\"anchor\" id=\"lib\"></a>\n",
    "Importing all the libraries we are going to use in this project:"
   ]
  },
  {
   "cell_type": "code",
   "execution_count": 1,
   "id": "19b469ba-e341-414f-924a-26cbda7edfa4",
   "metadata": {
    "colab": {
     "base_uri": "https://localhost:8080/"
    },
    "id": "19b469ba-e341-414f-924a-26cbda7edfa4",
    "outputId": "c9acd1f3-e38c-463c-8274-7478d88e0782"
   },
   "outputs": [
    {
     "name": "stderr",
     "output_type": "stream",
     "text": [
      "[nltk_data] Downloading package punkt to /root/nltk_data...\n",
      "[nltk_data]   Unzipping tokenizers/punkt.zip.\n",
      "[nltk_data] Downloading package stopwords to /root/nltk_data...\n",
      "[nltk_data]   Unzipping corpora/stopwords.zip.\n",
      "[nltk_data] Downloading package wordnet to /root/nltk_data...\n"
     ]
    },
    {
     "data": {
      "text/plain": [
       "True"
      ]
     },
     "execution_count": 1,
     "metadata": {},
     "output_type": "execute_result"
    }
   ],
   "source": [
    "import numpy as np\n",
    "import pandas as pd\n",
    "import matplotlib.pyplot as plt\n",
    "import seaborn as sns\n",
    "from sklearn.model_selection import train_test_split\n",
    "from sklearn.feature_extraction.text import CountVectorizer\n",
    "from sklearn.linear_model import LogisticRegression\n",
    "from sklearn.metrics import accuracy_score\n",
    "from sklearn.decomposition import PCA\n",
    "from sklearn.tree import DecisionTreeClassifier\n",
    "from sklearn.pipeline import Pipeline\n",
    "from sklearn.model_selection import GridSearchCV\n",
    "from sklearn.metrics import confusion_matrix, classification_report, precision_score, recall_score\n",
    "\n",
    "import nltk\n",
    "from nltk.tokenize import word_tokenize\n",
    "from nltk.stem import WordNetLemmatizer\n",
    "\n",
    "nltk.download('punkt')  # Tokenizer\n",
    "nltk.download('stopwords')  # Stop words\n",
    "nltk.download('wordnet')  # Lemmatizer"
   ]
  },
  {
   "cell_type": "markdown",
   "id": "ff194334-9741-4e9e-8347-f3ceedaebe92",
   "metadata": {
    "id": "ff194334-9741-4e9e-8347-f3ceedaebe92"
   },
   "source": [
    "## Importing the Dataset <a class=\"anchor\" id=\"importdataset\"></a>"
   ]
  },
  {
   "cell_type": "code",
   "execution_count": 4,
   "id": "c62da5b9-9353-466b-964e-61b70a1d1925",
   "metadata": {
    "id": "c62da5b9-9353-466b-964e-61b70a1d1925"
   },
   "outputs": [],
   "source": [
    "## Importing the dataset\n",
    "df = pd.read_csv('Hotel_Reviews.csv')"
   ]
  },
  {
   "cell_type": "code",
   "execution_count": null,
   "id": "853efb26-9e70-4957-8fb4-117db71fdb30",
   "metadata": {
    "colab": {
     "base_uri": "https://localhost:8080/",
     "height": 481
    },
    "id": "853efb26-9e70-4957-8fb4-117db71fdb30",
    "outputId": "fc22f93d-0a0f-4d5f-fb8a-20f96c589772"
   },
   "outputs": [
    {
     "data": {
      "application/vnd.google.colaboratory.intrinsic+json": {
       "type": "dataframe",
       "variable_name": "df"
      },
      "text/html": [
       "\n",
       "  <div id=\"df-b99ed560-efaf-4472-b435-a24e481ee32c\" class=\"colab-df-container\">\n",
       "    <div>\n",
       "<style scoped>\n",
       "    .dataframe tbody tr th:only-of-type {\n",
       "        vertical-align: middle;\n",
       "    }\n",
       "\n",
       "    .dataframe tbody tr th {\n",
       "        vertical-align: top;\n",
       "    }\n",
       "\n",
       "    .dataframe thead th {\n",
       "        text-align: right;\n",
       "    }\n",
       "</style>\n",
       "<table border=\"1\" class=\"dataframe\">\n",
       "  <thead>\n",
       "    <tr style=\"text-align: right;\">\n",
       "      <th></th>\n",
       "      <th>Unnamed: 0</th>\n",
       "      <th>Additional_Number_of_Scoring</th>\n",
       "      <th>Average_Score</th>\n",
       "      <th>Negative_Review</th>\n",
       "      <th>Review_Total_Negative_Word_Counts</th>\n",
       "      <th>Total_Number_of_Reviews</th>\n",
       "      <th>Positive_Review</th>\n",
       "      <th>Review_Total_Positive_Word_Counts</th>\n",
       "      <th>Total_Number_of_Reviews_Reviewer_Has_Given</th>\n",
       "      <th>Reviewer_Score</th>\n",
       "      <th>...</th>\n",
       "      <th>Reviewer_Nationality_USA</th>\n",
       "      <th>Reviewer_Nationality_Other</th>\n",
       "      <th>Hotel_Address_Amsterdam</th>\n",
       "      <th>Hotel_Address_Barcelona</th>\n",
       "      <th>Hotel_Address_London</th>\n",
       "      <th>Hotel_Address_Milan</th>\n",
       "      <th>Hotel_Address_Paris</th>\n",
       "      <th>Hotel_Address_Vienna</th>\n",
       "      <th>Leisure_Trip</th>\n",
       "      <th>Nights_Stayed</th>\n",
       "    </tr>\n",
       "  </thead>\n",
       "  <tbody>\n",
       "    <tr>\n",
       "      <th>0</th>\n",
       "      <td>0</td>\n",
       "      <td>194</td>\n",
       "      <td>7.7</td>\n",
       "      <td>I am so angry that i made this post available...</td>\n",
       "      <td>397</td>\n",
       "      <td>1403</td>\n",
       "      <td>Only the park outside of the hotel was beauti...</td>\n",
       "      <td>11</td>\n",
       "      <td>7</td>\n",
       "      <td>0</td>\n",
       "      <td>...</td>\n",
       "      <td>0</td>\n",
       "      <td>1</td>\n",
       "      <td>1</td>\n",
       "      <td>0</td>\n",
       "      <td>0</td>\n",
       "      <td>0</td>\n",
       "      <td>0</td>\n",
       "      <td>0</td>\n",
       "      <td>1</td>\n",
       "      <td>6</td>\n",
       "    </tr>\n",
       "    <tr>\n",
       "      <th>1</th>\n",
       "      <td>1</td>\n",
       "      <td>194</td>\n",
       "      <td>7.7</td>\n",
       "      <td>No Negative</td>\n",
       "      <td>0</td>\n",
       "      <td>1403</td>\n",
       "      <td>No real complaints the hotel was great great ...</td>\n",
       "      <td>105</td>\n",
       "      <td>7</td>\n",
       "      <td>0</td>\n",
       "      <td>...</td>\n",
       "      <td>0</td>\n",
       "      <td>0</td>\n",
       "      <td>1</td>\n",
       "      <td>0</td>\n",
       "      <td>0</td>\n",
       "      <td>0</td>\n",
       "      <td>0</td>\n",
       "      <td>0</td>\n",
       "      <td>1</td>\n",
       "      <td>4</td>\n",
       "    </tr>\n",
       "    <tr>\n",
       "      <th>2</th>\n",
       "      <td>2</td>\n",
       "      <td>194</td>\n",
       "      <td>7.7</td>\n",
       "      <td>Rooms are nice but for elderly a bit difficul...</td>\n",
       "      <td>42</td>\n",
       "      <td>1403</td>\n",
       "      <td>Location was good and staff were ok It is cut...</td>\n",
       "      <td>21</td>\n",
       "      <td>9</td>\n",
       "      <td>0</td>\n",
       "      <td>...</td>\n",
       "      <td>0</td>\n",
       "      <td>0</td>\n",
       "      <td>1</td>\n",
       "      <td>0</td>\n",
       "      <td>0</td>\n",
       "      <td>0</td>\n",
       "      <td>0</td>\n",
       "      <td>0</td>\n",
       "      <td>1</td>\n",
       "      <td>3</td>\n",
       "    </tr>\n",
       "    <tr>\n",
       "      <th>3</th>\n",
       "      <td>3</td>\n",
       "      <td>194</td>\n",
       "      <td>7.7</td>\n",
       "      <td>My room was dirty and I was afraid to walk ba...</td>\n",
       "      <td>210</td>\n",
       "      <td>1403</td>\n",
       "      <td>Great location in nice surroundings the bar a...</td>\n",
       "      <td>26</td>\n",
       "      <td>1</td>\n",
       "      <td>0</td>\n",
       "      <td>...</td>\n",
       "      <td>0</td>\n",
       "      <td>0</td>\n",
       "      <td>1</td>\n",
       "      <td>0</td>\n",
       "      <td>0</td>\n",
       "      <td>0</td>\n",
       "      <td>0</td>\n",
       "      <td>0</td>\n",
       "      <td>1</td>\n",
       "      <td>3</td>\n",
       "    </tr>\n",
       "    <tr>\n",
       "      <th>4</th>\n",
       "      <td>4</td>\n",
       "      <td>194</td>\n",
       "      <td>7.7</td>\n",
       "      <td>You When I booked with your company on line y...</td>\n",
       "      <td>140</td>\n",
       "      <td>1403</td>\n",
       "      <td>Amazing location and building Romantic setting</td>\n",
       "      <td>8</td>\n",
       "      <td>3</td>\n",
       "      <td>0</td>\n",
       "      <td>...</td>\n",
       "      <td>0</td>\n",
       "      <td>1</td>\n",
       "      <td>1</td>\n",
       "      <td>0</td>\n",
       "      <td>0</td>\n",
       "      <td>0</td>\n",
       "      <td>0</td>\n",
       "      <td>0</td>\n",
       "      <td>1</td>\n",
       "      <td>2</td>\n",
       "    </tr>\n",
       "  </tbody>\n",
       "</table>\n",
       "<p>5 rows × 30 columns</p>\n",
       "</div>\n",
       "    <div class=\"colab-df-buttons\">\n",
       "\n",
       "  <div class=\"colab-df-container\">\n",
       "    <button class=\"colab-df-convert\" onclick=\"convertToInteractive('df-b99ed560-efaf-4472-b435-a24e481ee32c')\"\n",
       "            title=\"Convert this dataframe to an interactive table.\"\n",
       "            style=\"display:none;\">\n",
       "\n",
       "  <svg xmlns=\"http://www.w3.org/2000/svg\" height=\"24px\" viewBox=\"0 -960 960 960\">\n",
       "    <path d=\"M120-120v-720h720v720H120Zm60-500h600v-160H180v160Zm220 220h160v-160H400v160Zm0 220h160v-160H400v160ZM180-400h160v-160H180v160Zm440 0h160v-160H620v160ZM180-180h160v-160H180v160Zm440 0h160v-160H620v160Z\"/>\n",
       "  </svg>\n",
       "    </button>\n",
       "\n",
       "  <style>\n",
       "    .colab-df-container {\n",
       "      display:flex;\n",
       "      gap: 12px;\n",
       "    }\n",
       "\n",
       "    .colab-df-convert {\n",
       "      background-color: #E8F0FE;\n",
       "      border: none;\n",
       "      border-radius: 50%;\n",
       "      cursor: pointer;\n",
       "      display: none;\n",
       "      fill: #1967D2;\n",
       "      height: 32px;\n",
       "      padding: 0 0 0 0;\n",
       "      width: 32px;\n",
       "    }\n",
       "\n",
       "    .colab-df-convert:hover {\n",
       "      background-color: #E2EBFA;\n",
       "      box-shadow: 0px 1px 2px rgba(60, 64, 67, 0.3), 0px 1px 3px 1px rgba(60, 64, 67, 0.15);\n",
       "      fill: #174EA6;\n",
       "    }\n",
       "\n",
       "    .colab-df-buttons div {\n",
       "      margin-bottom: 4px;\n",
       "    }\n",
       "\n",
       "    [theme=dark] .colab-df-convert {\n",
       "      background-color: #3B4455;\n",
       "      fill: #D2E3FC;\n",
       "    }\n",
       "\n",
       "    [theme=dark] .colab-df-convert:hover {\n",
       "      background-color: #434B5C;\n",
       "      box-shadow: 0px 1px 3px 1px rgba(0, 0, 0, 0.15);\n",
       "      filter: drop-shadow(0px 1px 2px rgba(0, 0, 0, 0.3));\n",
       "      fill: #FFFFFF;\n",
       "    }\n",
       "  </style>\n",
       "\n",
       "    <script>\n",
       "      const buttonEl =\n",
       "        document.querySelector('#df-b99ed560-efaf-4472-b435-a24e481ee32c button.colab-df-convert');\n",
       "      buttonEl.style.display =\n",
       "        google.colab.kernel.accessAllowed ? 'block' : 'none';\n",
       "\n",
       "      async function convertToInteractive(key) {\n",
       "        const element = document.querySelector('#df-b99ed560-efaf-4472-b435-a24e481ee32c');\n",
       "        const dataTable =\n",
       "          await google.colab.kernel.invokeFunction('convertToInteractive',\n",
       "                                                    [key], {});\n",
       "        if (!dataTable) return;\n",
       "\n",
       "        const docLinkHtml = 'Like what you see? Visit the ' +\n",
       "          '<a target=\"_blank\" href=https://colab.research.google.com/notebooks/data_table.ipynb>data table notebook</a>'\n",
       "          + ' to learn more about interactive tables.';\n",
       "        element.innerHTML = '';\n",
       "        dataTable['output_type'] = 'display_data';\n",
       "        await google.colab.output.renderOutput(dataTable, element);\n",
       "        const docLink = document.createElement('div');\n",
       "        docLink.innerHTML = docLinkHtml;\n",
       "        element.appendChild(docLink);\n",
       "      }\n",
       "    </script>\n",
       "  </div>\n",
       "\n",
       "\n",
       "<div id=\"df-f8a9dea2-9da9-4be3-bb2c-c6bb4c1ee33a\">\n",
       "  <button class=\"colab-df-quickchart\" onclick=\"quickchart('df-f8a9dea2-9da9-4be3-bb2c-c6bb4c1ee33a')\"\n",
       "            title=\"Suggest charts\"\n",
       "            style=\"display:none;\">\n",
       "\n",
       "<svg xmlns=\"http://www.w3.org/2000/svg\" height=\"24px\"viewBox=\"0 0 24 24\"\n",
       "     width=\"24px\">\n",
       "    <g>\n",
       "        <path d=\"M19 3H5c-1.1 0-2 .9-2 2v14c0 1.1.9 2 2 2h14c1.1 0 2-.9 2-2V5c0-1.1-.9-2-2-2zM9 17H7v-7h2v7zm4 0h-2V7h2v10zm4 0h-2v-4h2v4z\"/>\n",
       "    </g>\n",
       "</svg>\n",
       "  </button>\n",
       "\n",
       "<style>\n",
       "  .colab-df-quickchart {\n",
       "      --bg-color: #E8F0FE;\n",
       "      --fill-color: #1967D2;\n",
       "      --hover-bg-color: #E2EBFA;\n",
       "      --hover-fill-color: #174EA6;\n",
       "      --disabled-fill-color: #AAA;\n",
       "      --disabled-bg-color: #DDD;\n",
       "  }\n",
       "\n",
       "  [theme=dark] .colab-df-quickchart {\n",
       "      --bg-color: #3B4455;\n",
       "      --fill-color: #D2E3FC;\n",
       "      --hover-bg-color: #434B5C;\n",
       "      --hover-fill-color: #FFFFFF;\n",
       "      --disabled-bg-color: #3B4455;\n",
       "      --disabled-fill-color: #666;\n",
       "  }\n",
       "\n",
       "  .colab-df-quickchart {\n",
       "    background-color: var(--bg-color);\n",
       "    border: none;\n",
       "    border-radius: 50%;\n",
       "    cursor: pointer;\n",
       "    display: none;\n",
       "    fill: var(--fill-color);\n",
       "    height: 32px;\n",
       "    padding: 0;\n",
       "    width: 32px;\n",
       "  }\n",
       "\n",
       "  .colab-df-quickchart:hover {\n",
       "    background-color: var(--hover-bg-color);\n",
       "    box-shadow: 0 1px 2px rgba(60, 64, 67, 0.3), 0 1px 3px 1px rgba(60, 64, 67, 0.15);\n",
       "    fill: var(--button-hover-fill-color);\n",
       "  }\n",
       "\n",
       "  .colab-df-quickchart-complete:disabled,\n",
       "  .colab-df-quickchart-complete:disabled:hover {\n",
       "    background-color: var(--disabled-bg-color);\n",
       "    fill: var(--disabled-fill-color);\n",
       "    box-shadow: none;\n",
       "  }\n",
       "\n",
       "  .colab-df-spinner {\n",
       "    border: 2px solid var(--fill-color);\n",
       "    border-color: transparent;\n",
       "    border-bottom-color: var(--fill-color);\n",
       "    animation:\n",
       "      spin 1s steps(1) infinite;\n",
       "  }\n",
       "\n",
       "  @keyframes spin {\n",
       "    0% {\n",
       "      border-color: transparent;\n",
       "      border-bottom-color: var(--fill-color);\n",
       "      border-left-color: var(--fill-color);\n",
       "    }\n",
       "    20% {\n",
       "      border-color: transparent;\n",
       "      border-left-color: var(--fill-color);\n",
       "      border-top-color: var(--fill-color);\n",
       "    }\n",
       "    30% {\n",
       "      border-color: transparent;\n",
       "      border-left-color: var(--fill-color);\n",
       "      border-top-color: var(--fill-color);\n",
       "      border-right-color: var(--fill-color);\n",
       "    }\n",
       "    40% {\n",
       "      border-color: transparent;\n",
       "      border-right-color: var(--fill-color);\n",
       "      border-top-color: var(--fill-color);\n",
       "    }\n",
       "    60% {\n",
       "      border-color: transparent;\n",
       "      border-right-color: var(--fill-color);\n",
       "    }\n",
       "    80% {\n",
       "      border-color: transparent;\n",
       "      border-right-color: var(--fill-color);\n",
       "      border-bottom-color: var(--fill-color);\n",
       "    }\n",
       "    90% {\n",
       "      border-color: transparent;\n",
       "      border-bottom-color: var(--fill-color);\n",
       "    }\n",
       "  }\n",
       "</style>\n",
       "\n",
       "  <script>\n",
       "    async function quickchart(key) {\n",
       "      const quickchartButtonEl =\n",
       "        document.querySelector('#' + key + ' button');\n",
       "      quickchartButtonEl.disabled = true;  // To prevent multiple clicks.\n",
       "      quickchartButtonEl.classList.add('colab-df-spinner');\n",
       "      try {\n",
       "        const charts = await google.colab.kernel.invokeFunction(\n",
       "            'suggestCharts', [key], {});\n",
       "      } catch (error) {\n",
       "        console.error('Error during call to suggestCharts:', error);\n",
       "      }\n",
       "      quickchartButtonEl.classList.remove('colab-df-spinner');\n",
       "      quickchartButtonEl.classList.add('colab-df-quickchart-complete');\n",
       "    }\n",
       "    (() => {\n",
       "      let quickchartButtonEl =\n",
       "        document.querySelector('#df-f8a9dea2-9da9-4be3-bb2c-c6bb4c1ee33a button');\n",
       "      quickchartButtonEl.style.display =\n",
       "        google.colab.kernel.accessAllowed ? 'block' : 'none';\n",
       "    })();\n",
       "  </script>\n",
       "</div>\n",
       "\n",
       "    </div>\n",
       "  </div>\n"
      ],
      "text/plain": [
       "   Unnamed: 0  Additional_Number_of_Scoring  Average_Score  \\\n",
       "0           0                           194            7.7   \n",
       "1           1                           194            7.7   \n",
       "2           2                           194            7.7   \n",
       "3           3                           194            7.7   \n",
       "4           4                           194            7.7   \n",
       "\n",
       "                                     Negative_Review  \\\n",
       "0   I am so angry that i made this post available...   \n",
       "1                                        No Negative   \n",
       "2   Rooms are nice but for elderly a bit difficul...   \n",
       "3   My room was dirty and I was afraid to walk ba...   \n",
       "4   You When I booked with your company on line y...   \n",
       "\n",
       "   Review_Total_Negative_Word_Counts  Total_Number_of_Reviews  \\\n",
       "0                                397                     1403   \n",
       "1                                  0                     1403   \n",
       "2                                 42                     1403   \n",
       "3                                210                     1403   \n",
       "4                                140                     1403   \n",
       "\n",
       "                                     Positive_Review  \\\n",
       "0   Only the park outside of the hotel was beauti...   \n",
       "1   No real complaints the hotel was great great ...   \n",
       "2   Location was good and staff were ok It is cut...   \n",
       "3   Great location in nice surroundings the bar a...   \n",
       "4    Amazing location and building Romantic setting    \n",
       "\n",
       "   Review_Total_Positive_Word_Counts  \\\n",
       "0                                 11   \n",
       "1                                105   \n",
       "2                                 21   \n",
       "3                                 26   \n",
       "4                                  8   \n",
       "\n",
       "   Total_Number_of_Reviews_Reviewer_Has_Given  Reviewer_Score  ...  \\\n",
       "0                                           7               0  ...   \n",
       "1                                           7               0  ...   \n",
       "2                                           9               0  ...   \n",
       "3                                           1               0  ...   \n",
       "4                                           3               0  ...   \n",
       "\n",
       "   Reviewer_Nationality_USA  Reviewer_Nationality_Other  \\\n",
       "0                         0                           1   \n",
       "1                         0                           0   \n",
       "2                         0                           0   \n",
       "3                         0                           0   \n",
       "4                         0                           1   \n",
       "\n",
       "   Hotel_Address_Amsterdam  Hotel_Address_Barcelona  Hotel_Address_London  \\\n",
       "0                        1                        0                     0   \n",
       "1                        1                        0                     0   \n",
       "2                        1                        0                     0   \n",
       "3                        1                        0                     0   \n",
       "4                        1                        0                     0   \n",
       "\n",
       "   Hotel_Address_Milan  Hotel_Address_Paris  Hotel_Address_Vienna  \\\n",
       "0                    0                    0                     0   \n",
       "1                    0                    0                     0   \n",
       "2                    0                    0                     0   \n",
       "3                    0                    0                     0   \n",
       "4                    0                    0                     0   \n",
       "\n",
       "   Leisure_Trip  Nights_Stayed  \n",
       "0             1              6  \n",
       "1             1              4  \n",
       "2             1              3  \n",
       "3             1              3  \n",
       "4             1              2  \n",
       "\n",
       "[5 rows x 30 columns]"
      ]
     },
     "execution_count": 4,
     "metadata": {},
     "output_type": "execute_result"
    }
   ],
   "source": [
    "# Looking at the first observations in the dataset\n",
    "df.head()"
   ]
  },
  {
   "cell_type": "markdown",
   "id": "9b9baff4-e8c2-4cfa-8e7d-5a79ab4b48c8",
   "metadata": {
    "id": "9b9baff4-e8c2-4cfa-8e7d-5a79ab4b48c8"
   },
   "source": [
    "# 3. Exploratory Data Analysis (EDA) <a class=\"anchor\" id=\"cleaning\"></a>"
   ]
  },
  {
   "cell_type": "markdown",
   "id": "ca794e7c-fcba-4dea-a1e8-9717825cb77e",
   "metadata": {
    "id": "ca794e7c-fcba-4dea-a1e8-9717825cb77e"
   },
   "source": [
    "### a. Distribution of the target variable (Reviewer_Score): <a class=\"anchor\" id=\"distribution\"></a>"
   ]
  },
  {
   "cell_type": "code",
   "execution_count": null,
   "id": "f63004e6-ab69-4342-9587-4db36bcfb88c",
   "metadata": {
    "id": "f63004e6-ab69-4342-9587-4db36bcfb88c",
    "outputId": "e2861918-3e4d-4459-e7e9-6d6da7364476"
   },
   "outputs": [
    {
     "name": "stdout",
     "output_type": "stream",
     "text": [
      "                 Count        %\n",
      "Reviewer_Score                 \n",
      "1               293974  57.0006\n",
      "0               221764  42.9994\n"
     ]
    }
   ],
   "source": [
    "## Exploring the distribution of the Review Scores:\n",
    "rev_count = df['Reviewer_Score'].value_counts()  ## Count values of positive and negative reviews\n",
    "rev_perc = np.round((df['Reviewer_Score'].value_counts(normalize=True)*100),4)  ## Count values of positive and negative reviews as percentage\n",
    "\n",
    "## Summary of Positive and Negative Reviews\n",
    "rev_summ = pd.DataFrame({'Count':rev_count, '%':rev_perc}) ## Creating a DataFrame using counts values\n",
    "print(rev_summ)"
   ]
  },
  {
   "cell_type": "code",
   "execution_count": null,
   "id": "4172973a-8b26-415b-9c06-146a53802036",
   "metadata": {
    "id": "4172973a-8b26-415b-9c06-146a53802036",
    "outputId": "49195a24-7ac3-421f-cc39-8ca5b577792b"
   },
   "outputs": [
    {
     "data": {
      "image/png": "[encoded data removed]",
      "text/plain": [
       "<Figure size 640x480 with 1 Axes>"
      ]
     },
     "metadata": {},
     "output_type": "display_data"
    }
   ],
   "source": [
    "count_rev = df['Reviewer_Score'].value_counts()\n",
    "\n",
    "sns.barplot(count_rev)\n",
    "plt.title('Reviewer Score Distribution', fontsize=16)\n",
    "plt.xlabel('Reviewer Score', fontsize=14)\n",
    "plt.ylabel('Count Reviews', fontsize=14)\n",
    "plt.xticks(ticks=[0, 1], labels=['Negative (0)', 'Positive (1)'])\n",
    "plt.show()"
   ]
  },
  {
   "cell_type": "code",
   "execution_count": null,
   "id": "7da3f303-c9e2-4bb9-a464-874ed822a1a7",
   "metadata": {
    "id": "7da3f303-c9e2-4bb9-a464-874ed822a1a7",
    "outputId": "80956979-8e11-4465-bb13-575d871f15e1"
   },
   "outputs": [
    {
     "data": {
      "image/png": "[encoded data removed]",
      "text/plain": [
       "<Figure size 640x480 with 1 Axes>"
      ]
     },
     "metadata": {},
     "output_type": "display_data"
    }
   ],
   "source": [
    "# Percentahe of positive and negative reviews\n",
    "plt.pie(rev_summ['%'], labels=rev_summ.index, autopct='%1.1f%%', startangle=90)\n",
    "plt.title('Percentage of Positive and Negative Reviews')\n",
    "plt.axis('equal')\n",
    "plt.show()"
   ]
  },
  {
   "cell_type": "markdown",
   "id": "23606b33-7bf6-4200-a3b5-7b5f700c0eca",
   "metadata": {
    "id": "23606b33-7bf6-4200-a3b5-7b5f700c0eca"
   },
   "source": [
    "As we can see, there are 293,974 positive reviews, representing 57% of the total, while the 221,764 negative reviews account for 42%. Although the positive reviews outnumber the negative ones, the significant volume of negative feedback indicates a need for action to prevent it from becoming the dominant sentiment, which could harm the business and drive customers away."
   ]
  },
  {
   "cell_type": "markdown",
   "id": "04ab0a74-02ac-4a0e-a7d2-f28755e777d8",
   "metadata": {
    "id": "04ab0a74-02ac-4a0e-a7d2-f28755e777d8"
   },
   "source": [
    "### b. Distributions of numeric attributes <a class=\"anchor\" id=\"numdist\"></a>"
   ]
  },
  {
   "cell_type": "markdown",
   "id": "a0728cc3-803e-42cc-92f3-46039bd974c9",
   "metadata": {
    "id": "a0728cc3-803e-42cc-92f3-46039bd974c9"
   },
   "source": [
    "Histograms for variables: Average_Score, Review_Total_Negative_Word_Counts, Review_Total_Positive_Word_Counts"
   ]
  },
  {
   "cell_type": "code",
   "execution_count": null,
   "id": "d4d78a0a-073c-4633-9df7-ea5bfab5d8ee",
   "metadata": {
    "id": "d4d78a0a-073c-4633-9df7-ea5bfab5d8ee",
    "outputId": "7ce6c9a7-60b2-47b3-c6ab-b62ee17d0269"
   },
   "outputs": [
    {
     "data": {
      "image/png": "[encoded data removed]",
      "text/plain": [
       "<Figure size 1800x500 with 3 Axes>"
      ]
     },
     "metadata": {},
     "output_type": "display_data"
    }
   ],
   "source": [
    "# Histograms for selected variables\n",
    "plt.figure(figsize=(18, 5))\n",
    "\n",
    "# Histogram for Average_Score\n",
    "plt.subplot(1, 3, 1)  # Subplot 1\n",
    "plt.hist(df['Average_Score'], bins=20, color='skyblue', edgecolor='black')\n",
    "plt.title('Average_Score Distribution', fontsize=14)\n",
    "plt.xlabel('Average Score', fontsize=12)\n",
    "plt.ylabel('Frequency', fontsize=12)\n",
    "\n",
    "# Histogram for Review_Total_Negative_Word_Counts\n",
    "plt.subplot(1, 3, 2)  # Subplot 2\n",
    "plt.hist(df['Review_Total_Negative_Word_Counts'], bins=20, color='salmon', edgecolor='black')\n",
    "plt.title('Review_Total_Negative_Word_Counts Distribution', fontsize=14)\n",
    "plt.xlabel('Total Negative Word Counts', fontsize=12)\n",
    "plt.ylabel('Frequency', fontsize=12)\n",
    "\n",
    "# Histogram for Review_Total_Positive_Word_Counts\n",
    "plt.subplot(1, 3, 3)  # Subplot 3\n",
    "plt.hist(df['Review_Total_Positive_Word_Counts'], bins=20, color='lightgreen', edgecolor='black')\n",
    "plt.title('Review_Total_Positive_Word_Counts Distribution', fontsize=14)\n",
    "plt.xlabel('Total Positive Word Counts', fontsize=12)\n",
    "plt.ylabel('Frequency', fontsize=12)\n",
    "\n",
    "plt.tight_layout()  # Fixing space between plots\n",
    "plt.show()"
   ]
  },
  {
   "cell_type": "markdown",
   "id": "cb7f549b-d0c7-4b82-95b8-a403f4a956df",
   "metadata": {
    "id": "cb7f549b-d0c7-4b82-95b8-a403f4a956df"
   },
   "source": [
    "### Distribution Analysis:\n",
    "\n",
    "1. Average_Score Distribution:\n",
    "   - Most hotels have an average score between 7 and 9. This suggests that most guests are relatively satisfied with their stays, as scores below 7 are less common.\n",
    "2. Review_Total_Positive_Word_Counts Distribution:\n",
    "   - The vast majority of negative reviews contain less than 50 words, suggesting that customers tend to be shorter when expressing negative comments.\n",
    "   - This graph is heavily skewed to the right, meaning that most customers use few words to describe what they didn't like.\n",
    "3. Review_Total_Positive_Word_Counts Distribution:\n",
    "   - Similar to the negative reviews graph, the majority of positive reviews are less than 50 words, indicating that customers tend to be brief when expressing positive feedback as well.\n",
    "   - Like negative reviews, positive reviews are also skewed to the right, indicating that wordy reviews are less common.\n",
    "\n",
    "\n",
    "**Insights:**\n",
    "\n",
    "**Satisfied customers:** Most customers seem to be satisfied with their stay, as the average reviews tend to fall within a high range.\n",
    "\n",
    "**Brevity in comments:** Both negative and positive comments are mostly short. This may indicate that customers tend to write concise reviews, regardless of whether the experience was positive or negative.\n",
    "\n",
    "**Greater tendency to elaborate in positive reviews:** There is a slight tendency to use more words in positive comments than in negative ones, which could suggest that customers are more expressive when they have a good experience."
   ]
  },
  {
   "cell_type": "markdown",
   "id": "0a5b09ef-7e1e-4ffe-9b43-4a3589b9eaaf",
   "metadata": {
    "id": "0a5b09ef-7e1e-4ffe-9b43-4a3589b9eaaf"
   },
   "source": [
    "### c. Average_Score analysis for each hotel <a class=\"anchor\" id=\"avgscore\"></a>"
   ]
  },
  {
   "cell_type": "code",
   "execution_count": null,
   "id": "ff4ad9df-3115-4779-a211-272c3e1acf66",
   "metadata": {
    "id": "ff4ad9df-3115-4779-a211-272c3e1acf66",
    "outputId": "2a26883b-ebd7-4d90-c676-1367bc3caed4"
   },
   "outputs": [
    {
     "name": "stdout",
     "output_type": "stream",
     "text": [
      "       Hotel  Average_Score\n",
      "0  Amsterdam            7.7\n",
      "1  Barcelona            7.8\n",
      "2     London            8.5\n",
      "3      Milan            8.9\n",
      "4      Paris            8.4\n",
      "5     Vienna            8.1\n"
     ]
    }
   ],
   "source": [
    "# calculating the average Average_Score for each hotel\n",
    "average_by_hotel = {\n",
    "    'Amsterdam': df.loc[df['Hotel_Address_Amsterdam'] == 1, 'Average_Score'].unique()[0],\n",
    "    'Barcelona': df.loc[df['Hotel_Address_Barcelona'] == 1, 'Average_Score'].unique()[0],\n",
    "    'London': df.loc[df['Hotel_Address_London'] == 1, 'Average_Score'].unique()[0],\n",
    "    'Milan': df.loc[df['Hotel_Address_Milan'] == 1, 'Average_Score'].unique()[0],\n",
    "    'Paris': df.loc[df['Hotel_Address_Paris'] == 1, 'Average_Score'].unique()[0],\n",
    "    'Vienna': df.loc[df['Hotel_Address_Vienna'] == 1, 'Average_Score'].unique()[0]\n",
    "}\n",
    "\n",
    "# Dictionary into DataFrame\n",
    "average_by_hotel_df = pd.DataFrame(list(average_by_hotel.items()), columns=['Hotel', 'Average_Score'])\n",
    "print(average_by_hotel_df)"
   ]
  },
  {
   "cell_type": "code",
   "execution_count": null,
   "id": "f853c58a-0292-4162-afcd-c020b5706057",
   "metadata": {
    "id": "f853c58a-0292-4162-afcd-c020b5706057",
    "outputId": "8a5c4bd4-7d05-47ff-8c17-931a08e19112"
   },
   "outputs": [
    {
     "name": "stderr",
     "output_type": "stream",
     "text": [
      "C:\\Users\\Cris\\AppData\\Local\\Temp\\ipykernel_15316\\1111739589.py:3: FutureWarning: \n",
      "\n",
      "Passing `palette` without assigning `hue` is deprecated and will be removed in v0.14.0. Assign the `x` variable to `hue` and set `legend=False` for the same effect.\n",
      "\n",
      "  sns.barplot(x='Hotel', y='Average_Score', data=average_by_hotel_df, palette='Blues_d')\n"
     ]
    },
    {
     "data": {
      "image/png": "[encoded data removed]",
      "text/plain": [
       "<Figure size 800x600 with 1 Axes>"
      ]
     },
     "metadata": {},
     "output_type": "display_data"
    }
   ],
   "source": [
    "# Average Score Plot\n",
    "plt.figure(figsize=(8, 6))\n",
    "sns.barplot(x='Hotel', y='Average_Score', data=average_by_hotel_df, palette='Blues_d')\n",
    "plt.title('Average Score by Hotel', fontsize=16)\n",
    "plt.xlabel('Hotel', fontsize=12)\n",
    "plt.ylabel('Average Score', fontsize=12)\n",
    "plt.show()"
   ]
  },
  {
   "cell_type": "markdown",
   "id": "1ce65a29-e6f8-4370-baa0-5c063ce6f798",
   "metadata": {
    "id": "1ce65a29-e6f8-4370-baa0-5c063ce6f798"
   },
   "source": [
    "As we can see, all hotels have an Average Score greater than 7.\n",
    "Milan is the one that stands out the most with an average score of 8.9. The lowest score is for Amsterdam with 7.7, however it is a score that continues to be positive."
   ]
  },
  {
   "cell_type": "markdown",
   "id": "9c826f36-f4bc-48a5-868f-cfb40a7f5c4f",
   "metadata": {
    "id": "9c826f36-f4bc-48a5-868f-cfb40a7f5c4f"
   },
   "source": [
    "### d. Nights Stayed at Hotels Analysis <a class=\"anchor\" id=\"night\"></a>"
   ]
  },
  {
   "cell_type": "code",
   "execution_count": null,
   "id": "57c06850-5396-4b2d-a25d-ed5f420e0c68",
   "metadata": {
    "id": "57c06850-5396-4b2d-a25d-ed5f420e0c68",
    "outputId": "944c23d8-5e70-4dab-e8ab-1b1e5d9a88b3"
   },
   "outputs": [
    {
     "name": "stdout",
     "output_type": "stream",
     "text": [
      "count    515738.000000\n",
      "mean          2.362122\n",
      "std           1.646808\n",
      "min           1.000000\n",
      "25%           1.000000\n",
      "50%           2.000000\n",
      "75%           3.000000\n",
      "max          31.000000\n",
      "Name: Nights_Stayed, dtype: float64\n"
     ]
    }
   ],
   "source": [
    "## Total Nights stayed at hotels\n",
    "stayed_nights = df['Nights_Stayed'].describe()\n",
    "print(stayed_nights)"
   ]
  },
  {
   "cell_type": "markdown",
   "id": "796c39ad-86c0-45be-a429-7701277c689a",
   "metadata": {
    "id": "796c39ad-86c0-45be-a429-7701277c689a"
   },
   "source": [
    "As we can see regarding Nights_Stayed, in average a guest stay 2 nights, minimum 1 and maximum of nights stayed in the hotel 31.\n",
    "\n",
    "However, in the following table and graphs, we can see how stays longer than 7 days are not common."
   ]
  },
  {
   "cell_type": "code",
   "execution_count": null,
   "id": "7f0da319-248c-4e44-9a8a-000e722daff1",
   "metadata": {
    "id": "7f0da319-248c-4e44-9a8a-000e722daff1",
    "outputId": "505c9422-ac2d-40fd-e3e2-13ce10bafe8b"
   },
   "outputs": [
    {
     "data": {
      "text/plain": [
       "(0.969, 7.0]    98.777286\n",
       "(7.0, 13.0]      1.098232\n",
       "(13.0, 19.0]     0.101796\n",
       "(19.0, 25.0]     0.014542\n",
       "(25.0, 31.0]     0.008144\n",
       "Name: proportion, dtype: float64"
      ]
     },
     "execution_count": 59,
     "metadata": {},
     "output_type": "execute_result"
    }
   ],
   "source": [
    "# Count the occurrences of unique values in 'Nights_Stayed' column\n",
    "# Grouping the values into 5 ranges and normalizing to get the percentage\n",
    "df['Nights_Stayed'].value_counts(bins= 5, normalize=True)*100"
   ]
  },
  {
   "cell_type": "markdown",
   "id": "fec7bc0d-8353-464e-b871-a8c3f3e0a210",
   "metadata": {
    "id": "fec7bc0d-8353-464e-b871-a8c3f3e0a210"
   },
   "source": [
    "The majority of guests stay for less than 7 days, making up 98% of the total. The remaining guests, who stay for more than 7 days, account for less than 2%."
   ]
  },
  {
   "cell_type": "code",
   "execution_count": null,
   "id": "c3e68636-acf7-4895-8ef6-10b64940a7f1",
   "metadata": {
    "id": "c3e68636-acf7-4895-8ef6-10b64940a7f1",
    "outputId": "e91a68f3-da33-4fe3-fadc-0558a5812492"
   },
   "outputs": [
    {
     "data": {
      "text/plain": [
       "Text(0, 0.5, 'Frequency')"
      ]
     },
     "execution_count": 46,
     "metadata": {},
     "output_type": "execute_result"
    },
    {
     "data": {
      "image/png": "[encoded data removed]",
      "text/plain": [
       "<Figure size 640x480 with 1 Axes>"
      ]
     },
     "metadata": {},
     "output_type": "display_data"
    }
   ],
   "source": [
    "# Histogram for Review_Total_Positive_Word_Counts\n",
    "plt.hist(df['Nights_Stayed'], bins=20, color='lightblue', edgecolor='black')\n",
    "plt.title('Nights_Stayed', fontsize=14)\n",
    "plt.xlabel('Nights stayed', fontsize=12)\n",
    "plt.ylabel('Frequency', fontsize=12)"
   ]
  },
  {
   "cell_type": "code",
   "execution_count": null,
   "id": "339364e1-26f4-4055-86f3-918dcd10fdbd",
   "metadata": {
    "id": "339364e1-26f4-4055-86f3-918dcd10fdbd",
    "outputId": "a621c89e-a14e-44c2-cca1-2759e13eec0b"
   },
   "outputs": [
    {
     "data": {
      "image/png": "[encoded data removed]",
      "text/plain": [
       "<Figure size 640x480 with 1 Axes>"
      ]
     },
     "metadata": {},
     "output_type": "display_data"
    }
   ],
   "source": [
    "# Creating plot to see the outliers in nights stayed\n",
    "plt.boxplot(df['Nights_Stayed'])\n",
    "plt.show()"
   ]
  },
  {
   "cell_type": "markdown",
   "id": "f343005a-7ea7-41dc-90c5-6a510dc822c4",
   "metadata": {
    "id": "f343005a-7ea7-41dc-90c5-6a510dc822c4"
   },
   "source": [
    "This graph is heavily skewed to the left, meaning that most customers stay less than 7 days. The rest of the days is not represntative."
   ]
  },
  {
   "cell_type": "markdown",
   "id": "5338ea50-8e8e-476a-bf97-9773ea26ea5e",
   "metadata": {
    "id": "5338ea50-8e8e-476a-bf97-9773ea26ea5e"
   },
   "source": [
    "# 4. Preprocessing <a class=\"anchor\" id=\"preprocessing\"></a>\n",
    "\n",
    "Next, the text data needs to be processed for modelling, spliting the data into train and test sets and transform the positive and negative review columns using a CountVectorizer.\n",
    "\n",
    "We will be following the next steps:\n",
    "\n",
    "1. **Clean the text:** Perform tokenization and cleaning of the text columns (positive and negative comments).\n",
    "2. **Apply CountVectorizer:** Convert texts into word count arrays. We limit it to 500 features and eliminate words that appear less than 10 times.\n",
    "3. **Split into training and test sets:** Separate data for training and evaluation."
   ]
  },
  {
   "cell_type": "markdown",
   "id": "8fe5b38d-6885-49b7-ba3b-f1c0c17e6428",
   "metadata": {
    "id": "8fe5b38d-6885-49b7-ba3b-f1c0c17e6428"
   },
   "source": [
    "## Text Cleaning and Tokenization <a class=\"anchor\" id=\"textclean\"></a>\n",
    "\n",
    "Before we can perform our analysis, we need to preprocess the text data, first we need to apply text cleaning techniques like lower-case the text, remove stopwords and then tokenize it into individual words. This step helps in standardizing the text data."
   ]
  },
  {
   "cell_type": "code",
   "execution_count": 5,
   "id": "12ca9d4d-b8a5-4d19-99c8-9ffb6f75f882",
   "metadata": {
    "id": "12ca9d4d-b8a5-4d19-99c8-9ffb6f75f882"
   },
   "outputs": [],
   "source": [
    "# Convert the text in 'Positive_Review' and 'Negative_Review' column to lowercase\n",
    "# Both lines ensure that the text is uniformly in lowercase for further text processing or analysis\n",
    "df['Positive_Review'] = df['Positive_Review'].str.lower()\n",
    "df['Negative_Review'] = df['Negative_Review'].str.lower()"
   ]
  },
  {
   "cell_type": "code",
   "execution_count": 6,
   "id": "1fd4560a-aec7-4a65-9d36-37c3dc138b9d",
   "metadata": {
    "id": "1fd4560a-aec7-4a65-9d36-37c3dc138b9d"
   },
   "outputs": [],
   "source": [
    "# Tokenize each review in 'Positive_Review' and 'Negative_Review' column using nltk word_tokenize function\n",
    "# This function tokenizes the text, splitting each review into individual words or tokens. It handles punctuation and spacing intelligently\n",
    "df['Positive_Review'] = df['Positive_Review'].apply(nltk.word_tokenize)\n",
    "df['Negative_Review'] = df['Negative_Review'].apply(nltk.word_tokenize)"
   ]
  },
  {
   "cell_type": "code",
   "execution_count": 7,
   "id": "7c7c1843-d582-4330-9f1f-1776fdaba21e",
   "metadata": {
    "id": "7c7c1843-d582-4330-9f1f-1776fdaba21e"
   },
   "outputs": [],
   "source": [
    "# Remove stopwords after tokenizing\n",
    "# Load the list of stopwords for the English language using NLTK\n",
    "stopwords = nltk.corpus.stopwords.words('english')  # Predefined list of common English words (like \"the\", \"and\", \"is\") that usually is not useful.\n",
    "\n",
    "# Remove stopwords from the tokenized 'Positive_Review' column\n",
    "df['Positive_Review'] = df['Positive_Review'].apply(lambda x: [word for word in x if word not in stopwords])\n",
    "df['Negative_Review'] = df['Negative_Review'].apply(lambda x: [word for word in x if word not in stopwords])\n",
    "# lambda x: [word for word in x if word not in stopwords] : This is a list comprehension that loops over each token (word) in the tokenized review (x) and removes the word if it is found in the list of stopwords"
   ]
  },
  {
   "cell_type": "code",
   "execution_count": 8,
   "id": "Nn_vBoViymOU",
   "metadata": {
    "id": "Nn_vBoViymOU"
   },
   "outputs": [],
   "source": [
    "# Applying lemmatizer which is used to reduce words to the root form\n",
    "lemmatizer = WordNetLemmatizer() # Initialize the WordNet lemmatizer from NLTK\n",
    "\n",
    "# Apply lemmatization to the 'Positive_Review' column\n",
    "df['Positive_Review'] = df['Positive_Review'].apply(lambda x: [lemmatizer.lemmatize(word) for word in x])\n",
    "df['Negative_Review'] = df['Negative_Review'].apply(lambda x: [lemmatizer.lemmatize(word) for word in x])\n",
    "# lambda x: [lemmatizer.lemmatize(word) for word in x] : This is a list comprehension that loops through each token in the review and applies the lemmatize method to return the base form of each word."
   ]
  },
  {
   "cell_type": "markdown",
   "id": "6JAenU5mvj7s",
   "metadata": {
    "id": "6JAenU5mvj7s"
   },
   "source": [
    "\n",
    "For now we have carried out a cleanup of the positive and negative reviews, executing the following:\n",
    "\n",
    "- Convert text to lowercase\n",
    "- Tokenizing the text utilizing nltk\n",
    "- Remove stopwords after tokenizing\n",
    "\n",
    "Now we are ready to split the data into training and test sets. This step is important to ensure that the model is properly trained with unseen data.\n"
   ]
  },
  {
   "cell_type": "markdown",
   "id": "UKjdPCKl1pJX",
   "metadata": {
    "id": "UKjdPCKl1pJX"
   },
   "source": [
    "### Split data into Train and Test <a class=\"anchor\" id=\"splitdata\"></a>"
   ]
  },
  {
   "cell_type": "code",
   "execution_count": 9,
   "id": "0196c4d4-3df9-4e9a-99da-cde6b635cb09",
   "metadata": {
    "colab": {
     "base_uri": "https://localhost:8080/"
    },
    "id": "0196c4d4-3df9-4e9a-99da-cde6b635cb09",
    "outputId": "f9d88c98-fdf3-4d36-cc6f-4863cd1d5dd8"
   },
   "outputs": [
    {
     "name": "stdout",
     "output_type": "stream",
     "text": [
      "Train size: (412590, 20)\n",
      "Test size: (103148, 20)\n"
     ]
    }
   ],
   "source": [
    "# Define the list of feature columns for the model (X columns)\n",
    "xcols = ['Positive_Review', 'Negative_Review', 'Average_Score', 'Total_Number_of_Reviews',\n",
    "         'Total_Number_of_Reviews_Reviewer_Has_Given', 'Days_Since_Review',\n",
    "         'Reviewer_Nationality_Australia', 'Reviewer_Nationality_Ireland',\n",
    "         'Reviewer_Nationality_UAE', 'Reviewer_Nationality_UK',\n",
    "         'Reviewer_Nationality_USA', 'Reviewer_Nationality_Other',\n",
    "         'Hotel_Address_Amsterdam', 'Hotel_Address_Barcelona',\n",
    "         'Hotel_Address_London', 'Hotel_Address_Milan', 'Hotel_Address_Paris',\n",
    "         'Hotel_Address_Vienna', 'Leisure_Trip', 'Nights_Stayed']\n",
    "\n",
    "# Set the X variable with xcols columns\n",
    "X = df[xcols]\n",
    "# Set the target variable\n",
    "y = df['Reviewer_Score']\n",
    "\n",
    "# Split the dataset into training and testing sets\n",
    "# 80% of the data will be used for training and 20% for testing\n",
    "X_train, X_test, y_train, y_test = train_test_split(X, y, test_size=0.2, random_state=42)\n",
    "\n",
    "# Print the shapes of the training and testing datasets\n",
    "print(f\"Train size: {X_train.shape}\")\n",
    "print(f\"Test size: {X_test.shape}\")"
   ]
  },
  {
   "cell_type": "code",
   "execution_count": 10,
   "id": "UOxdda6dG5Et",
   "metadata": {
    "id": "UOxdda6dG5Et"
   },
   "outputs": [],
   "source": [
    "# Initialize the CountVectorizer for positive and negative comments\n",
    "\n",
    "# Create a CountVectorizer for positive reviews with a maximum of 500 features (words) and ignore words that appear <10 times\n",
    "vectorizer_pos = CountVectorizer(max_features=500, min_df=10)\n",
    "vectorizer_neg = CountVectorizer(max_features=500, min_df=10)"
   ]
  },
  {
   "cell_type": "code",
   "execution_count": 11,
   "id": "jckvSS5jG7r_",
   "metadata": {
    "id": "jckvSS5jG7r_"
   },
   "outputs": [],
   "source": [
    "# Convert reviews to strings again to apply vectorizer\n",
    "\n",
    "# Convert the list of tokens in 'Positive_Review' and 'Negative_Review' back to a single string with words separated by spaces for training and testing datasets\n",
    "X_train['Positive_Review'] = X_train['Positive_Review'].apply(lambda x: ' '.join(x))\n",
    "X_train['Negative_Review'] = X_train['Negative_Review'].apply(lambda x: ' '.join(x))\n",
    "\n",
    "X_test['Positive_Review'] = X_test['Positive_Review'].apply(lambda x: ' '.join(x))\n",
    "X_test['Negative_Review'] = X_test['Negative_Review'].apply(lambda x: ' '.join(x))\n",
    "\n",
    "# (' '.join(x)): This joins the list of words (x) into a single string, with each word separated by a space, suitable for vectorization."
   ]
  },
  {
   "cell_type": "code",
   "execution_count": 12,
   "id": "x4DxKWwPG9oe",
   "metadata": {
    "id": "x4DxKWwPG9oe"
   },
   "outputs": [],
   "source": [
    "# Applying vectorizer to positive reviews from the training and test set\n",
    "\n",
    "# Fit the CountVectorizer on the positive reviews in the training set and transform them into a matrix of token counts (features)\n",
    "X_train_pos = vectorizer_pos.fit_transform(X_train['Positive_Review']).toarray()\n",
    "X_test_pos = vectorizer_pos.transform(X_test['Positive_Review']).toarray()"
   ]
  },
  {
   "cell_type": "code",
   "execution_count": 13,
   "id": "2GJq0USnG_Pm",
   "metadata": {
    "id": "2GJq0USnG_Pm"
   },
   "outputs": [],
   "source": [
    "# Apply the vectorizer to negative reviews from the training and test set\n",
    "\n",
    "# Fit the CountVectorizer on the negative reviews in the training set and transform them into a matrix of token counts (features)\n",
    "X_train_neg = vectorizer_neg.fit_transform(X_train['Negative_Review']).toarray()\n",
    "X_test_neg = vectorizer_neg.transform(X_test['Negative_Review']).toarray()"
   ]
  },
  {
   "cell_type": "code",
   "execution_count": 14,
   "id": "IG4q56GEHAyd",
   "metadata": {
    "id": "IG4q56GEHAyd"
   },
   "outputs": [],
   "source": [
    "# Adding 'pos' and 'neg' prefixes to feature names\n",
    "# Create a list of feature names for positive and negative reviews by prefixing each word\n",
    "\n",
    "# with 'pos_' to indicate that they are derived from positive reviews\n",
    "pos_feature_names = ['pos_' + word for word in vectorizer_pos.get_feature_names_out()]\n",
    "\n",
    "# with 'neg_' to indicate that they are derived from negative reviews\n",
    "neg_feature_names = ['neg_' + word for word in vectorizer_neg.get_feature_names_out()]"
   ]
  },
  {
   "cell_type": "code",
   "execution_count": 15,
   "id": "Cnrmz3mpHCZ8",
   "metadata": {
    "id": "Cnrmz3mpHCZ8"
   },
   "outputs": [],
   "source": [
    "# Combining all numerical features with text matrices\n",
    "\n",
    "# Combine the numerical features and the reviews feature matrix\n",
    "# First, drop the 'Positive_Review' and 'Negative_Review' columns, keeping only numerical features\n",
    "# Then, horizontally stack (concatenate) these numerical features with the positive and negative text feature matrices\n",
    "\n",
    "X_train_combined = np.hstack([X_train.drop(['Positive_Review', 'Negative_Review'], axis=1).values, X_train_pos, X_train_neg])\n",
    "X_test_combined = np.hstack([X_test.drop(['Positive_Review', 'Negative_Review'], axis=1).values, X_test_pos, X_test_neg])"
   ]
  },
  {
   "cell_type": "code",
   "execution_count": 16,
   "id": "9aKCF55pHECk",
   "metadata": {
    "id": "9aKCF55pHECk"
   },
   "outputs": [],
   "source": [
    "# Creating the final DataFrames with the appropriate feature columns\n",
    "\n",
    "# Generate a list of feature for the final DataFrame\n",
    "# Start with the numerical feature names from the training set (excluding text reviews)\n",
    "final_columns = list(X_train.drop(['Positive_Review', 'Negative_Review'], axis=1).columns) + pos_feature_names + neg_feature_names\n",
    "\n",
    "# Create the final DataFrame for the training set with the combined features\n",
    "X_train_final_df = pd.DataFrame(X_train_combined, columns=final_columns)\n",
    "\n",
    "# Similarly, create the final DataFrame for the test set with the combined features and assigned column names\n",
    "X_test_final_df = pd.DataFrame(X_test_combined, columns=final_columns)"
   ]
  },
  {
   "cell_type": "markdown",
   "id": "29a0703f-9057-4b4d-ba3e-ef637138a9cd",
   "metadata": {
    "id": "29a0703f-9057-4b4d-ba3e-ef637138a9cd"
   },
   "source": [
    "The resulting DataFrames, X_train_final_df and X_test_final_df, are now ready for training and testing the machine learning model, containing all relevant features in a structured format."
   ]
  },
  {
   "cell_type": "code",
   "execution_count": 17,
   "id": "pmxxxpY9HF2F",
   "metadata": {
    "colab": {
     "base_uri": "https://localhost:8080/"
    },
    "id": "pmxxxpY9HF2F",
    "outputId": "9a954408-59bb-4c26-a444-1808683b75cf"
   },
   "outputs": [
    {
     "name": "stdout",
     "output_type": "stream",
     "text": [
      "(412590, 1018) (103148, 1018)\n"
     ]
    }
   ],
   "source": [
    "# Final shape verification\n",
    "print(X_train_final_df.shape, X_test_final_df.shape)"
   ]
  },
  {
   "cell_type": "markdown",
   "id": "87X8M0tG7qz0",
   "metadata": {
    "id": "87X8M0tG7qz0"
   },
   "source": [
    "## **Explanation:**\n",
    "**Combined Reviews:** Positive and negative reviews have been concatenated into a new column called Combined_Reviews.\n",
    "**Vectorization:** CountVectorizer has been applied only to the combined column.\n",
    "**Final combination:** The matrix resulting from the vectorized reviews is combined with the numerical characteristics.\n",
    "\n",
    "(412590, 1018):\n",
    "It is the number of rows and columns in the training dataset.\n",
    "\n",
    "\n",
    "(103148, 1018):\n",
    "It is the number of rows and columns in the test dataset."
   ]
  },
  {
   "cell_type": "markdown",
   "id": "qp7eyVWn4vhx",
   "metadata": {
    "id": "qp7eyVWn4vhx"
   },
   "source": [
    "# 3. Modelling <a class=\"anchor\" id=\"model\"></a>"
   ]
  },
  {
   "cell_type": "markdown",
   "id": "6QjjDSN79Iin",
   "metadata": {
    "id": "6QjjDSN79Iin"
   },
   "source": [
    "## Logistic Regression <a class=\"anchor\" id=\"logreg\"></a>\n",
    "\n",
    "Next, a logistic regression model will be trained, performance and accuracy will be evaluated, and the 20 most important words from both positive and negative reviews will be identified."
   ]
  },
  {
   "cell_type": "code",
   "execution_count": 18,
   "id": "hDLGMQTq9TBp",
   "metadata": {
    "colab": {
     "base_uri": "https://localhost:8080/"
    },
    "id": "hDLGMQTq9TBp",
    "outputId": "c444a92d-ccf2-4a0d-ebb6-0af6883dadf9"
   },
   "outputs": [
    {
     "name": "stderr",
     "output_type": "stream",
     "text": [
      "/usr/local/lib/python3.10/dist-packages/sklearn/linear_model/_logistic.py:469: ConvergenceWarning: lbfgs failed to converge (status=1):\n",
      "STOP: TOTAL NO. of ITERATIONS REACHED LIMIT.\n",
      "\n",
      "Increase the number of iterations (max_iter) or scale the data as shown in:\n",
      "    https://scikit-learn.org/stable/modules/preprocessing.html\n",
      "Please also refer to the documentation for alternative solver options:\n",
      "    https://scikit-learn.org/stable/modules/linear_model.html#logistic-regression\n",
      "  n_iter_i = _check_optimize_result(\n"
     ]
    },
    {
     "name": "stdout",
     "output_type": "stream",
     "text": [
      "Train accuracy: 0.7839\n",
      "Test accuracy: 0.7827\n"
     ]
    }
   ],
   "source": [
    "# Instantiate Logistic Model\n",
    "\n",
    "logmodel = LogisticRegression(max_iter=1000, random_state=42) # Creating an instance of the Logistic Regression model with a maximum of 1000 iterations\n",
    "\n",
    "# Fit the model with train dataset\n",
    "# Training the logistic regression model using the training features and target variable\n",
    "logmodel.fit(X_train_final_df, y_train)\n",
    "\n",
    "# Predict\n",
    "# Generating predictions for the training and testing dataset\n",
    "y_train_pred = logmodel.predict(X_train_final_df)\n",
    "y_test_pred = logmodel.predict(X_test_final_df)\n",
    "\n",
    "# Model Accuracy\n",
    "# Calculating the accuracy score of the model\n",
    "train_accuracy = accuracy_score(y_train, y_train_pred)\n",
    "test_accuracy = accuracy_score(y_test, y_test_pred)\n",
    "\n",
    "# Print the accuracy results\n",
    "print(f\"Train accuracy: {train_accuracy:.4f}\")\n",
    "print(f\"Test accuracy: {test_accuracy:.4f}\")"
   ]
  },
  {
   "cell_type": "markdown",
   "id": "_87qwJ2DTIms",
   "metadata": {
    "id": "_87qwJ2DTIms"
   },
   "source": [
    "After running the Logistic Model with 2 different it iterations, the accuracy is:\n",
    "\n",
    "1000 Iterations:\n",
    "\n",
    "*   Train accuracy: 0.78\n",
    "*   Test accuracy: 0.77\n",
    "\n",
    "5000 iterations:\n",
    "\n",
    "*   Train accuracy: 0.79\n",
    "*   Test accuracy: 0.79\n",
    "\n",
    "We decided to limit the model to 1,000 iterations, as the accuracy does not vary significantly compared to 5,000 iterations. In terms of efficiency, the estimated execution time with 1,000 iterations is approximately 15 minutes, while with 5,000 iterations, it takes around 1 hour and 15 minutes. Since increasing the iterations does not substantially improve the model's performance, we consider 1,000 iterations to be a good trade-off between accuracy and execution time.\n",
    "\n"
   ]
  },
  {
   "cell_type": "markdown",
   "id": "tnhAxYXhV7LZ",
   "metadata": {
    "id": "tnhAxYXhV7LZ"
   },
   "source": [
    "## Top 20 words from the positive and negative reviews that are most predictive <a class=\"anchor\" id=\"topwords\"></a>"
   ]
  },
  {
   "cell_type": "code",
   "execution_count": 19,
   "id": "NbmADSaeVdyh",
   "metadata": {
    "colab": {
     "base_uri": "https://localhost:8080/",
     "height": 206
    },
    "id": "NbmADSaeVdyh",
    "outputId": "df0ed265-fb0c-4253-e49a-0ac7e3dbfdfb"
   },
   "outputs": [
    {
     "data": {
      "application/vnd.google.colaboratory.intrinsic+json": {
       "summary": "{\n  \"name\": \"coef_df\",\n  \"rows\": 1018,\n  \"fields\": [\n    {\n      \"column\": \"Feature\",\n      \"properties\": {\n        \"dtype\": \"string\",\n        \"num_unique_values\": 1018,\n        \"samples\": [\n          \"neg_access\",\n          \"neg_slightly\",\n          \"neg_chair\"\n        ],\n        \"semantic_type\": \"\",\n        \"description\": \"\"\n      }\n    },\n    {\n      \"column\": \"Coefficient\",\n      \"properties\": {\n        \"dtype\": \"number\",\n        \"std\": 0.18098207991940388,\n        \"min\": -0.9123104422239618,\n        \"max\": 1.5670594622824103,\n        \"num_unique_values\": 1018,\n        \"samples\": [\n          -0.01647892526244722,\n          0.12240305760132929,\n          -0.03106717212958116\n        ],\n        \"semantic_type\": \"\",\n        \"description\": \"\"\n      }\n    }\n  ]\n}",
       "type": "dataframe",
       "variable_name": "coef_df"
      },
      "text/html": [
       "\n",
       "  <div id=\"df-f2675d8b-6d61-4f2e-b91f-6933ff951794\" class=\"colab-df-container\">\n",
       "    <div>\n",
       "<style scoped>\n",
       "    .dataframe tbody tr th:only-of-type {\n",
       "        vertical-align: middle;\n",
       "    }\n",
       "\n",
       "    .dataframe tbody tr th {\n",
       "        vertical-align: top;\n",
       "    }\n",
       "\n",
       "    .dataframe thead th {\n",
       "        text-align: right;\n",
       "    }\n",
       "</style>\n",
       "<table border=\"1\" class=\"dataframe\">\n",
       "  <thead>\n",
       "    <tr style=\"text-align: right;\">\n",
       "      <th></th>\n",
       "      <th>Feature</th>\n",
       "      <th>Coefficient</th>\n",
       "    </tr>\n",
       "  </thead>\n",
       "  <tbody>\n",
       "    <tr>\n",
       "      <th>0</th>\n",
       "      <td>Average_Score</td>\n",
       "      <td>0.316257</td>\n",
       "    </tr>\n",
       "    <tr>\n",
       "      <th>1</th>\n",
       "      <td>Total_Number_of_Reviews</td>\n",
       "      <td>-0.000033</td>\n",
       "    </tr>\n",
       "    <tr>\n",
       "      <th>2</th>\n",
       "      <td>Total_Number_of_Reviews_Reviewer_Has_Given</td>\n",
       "      <td>-0.000210</td>\n",
       "    </tr>\n",
       "    <tr>\n",
       "      <th>3</th>\n",
       "      <td>Days_Since_Review</td>\n",
       "      <td>-0.000379</td>\n",
       "    </tr>\n",
       "    <tr>\n",
       "      <th>4</th>\n",
       "      <td>Reviewer_Nationality_Australia</td>\n",
       "      <td>-0.394097</td>\n",
       "    </tr>\n",
       "  </tbody>\n",
       "</table>\n",
       "</div>\n",
       "    <div class=\"colab-df-buttons\">\n",
       "\n",
       "  <div class=\"colab-df-container\">\n",
       "    <button class=\"colab-df-convert\" onclick=\"convertToInteractive('df-f2675d8b-6d61-4f2e-b91f-6933ff951794')\"\n",
       "            title=\"Convert this dataframe to an interactive table.\"\n",
       "            style=\"display:none;\">\n",
       "\n",
       "  <svg xmlns=\"http://www.w3.org/2000/svg\" height=\"24px\" viewBox=\"0 -960 960 960\">\n",
       "    <path d=\"M120-120v-720h720v720H120Zm60-500h600v-160H180v160Zm220 220h160v-160H400v160Zm0 220h160v-160H400v160ZM180-400h160v-160H180v160Zm440 0h160v-160H620v160ZM180-180h160v-160H180v160Zm440 0h160v-160H620v160Z\"/>\n",
       "  </svg>\n",
       "    </button>\n",
       "\n",
       "  <style>\n",
       "    .colab-df-container {\n",
       "      display:flex;\n",
       "      gap: 12px;\n",
       "    }\n",
       "\n",
       "    .colab-df-convert {\n",
       "      background-color: #E8F0FE;\n",
       "      border: none;\n",
       "      border-radius: 50%;\n",
       "      cursor: pointer;\n",
       "      display: none;\n",
       "      fill: #1967D2;\n",
       "      height: 32px;\n",
       "      padding: 0 0 0 0;\n",
       "      width: 32px;\n",
       "    }\n",
       "\n",
       "    .colab-df-convert:hover {\n",
       "      background-color: #E2EBFA;\n",
       "      box-shadow: 0px 1px 2px rgba(60, 64, 67, 0.3), 0px 1px 3px 1px rgba(60, 64, 67, 0.15);\n",
       "      fill: #174EA6;\n",
       "    }\n",
       "\n",
       "    .colab-df-buttons div {\n",
       "      margin-bottom: 4px;\n",
       "    }\n",
       "\n",
       "    [theme=dark] .colab-df-convert {\n",
       "      background-color: #3B4455;\n",
       "      fill: #D2E3FC;\n",
       "    }\n",
       "\n",
       "    [theme=dark] .colab-df-convert:hover {\n",
       "      background-color: #434B5C;\n",
       "      box-shadow: 0px 1px 3px 1px rgba(0, 0, 0, 0.15);\n",
       "      filter: drop-shadow(0px 1px 2px rgba(0, 0, 0, 0.3));\n",
       "      fill: #FFFFFF;\n",
       "    }\n",
       "  </style>\n",
       "\n",
       "    <script>\n",
       "      const buttonEl =\n",
       "        document.querySelector('#df-f2675d8b-6d61-4f2e-b91f-6933ff951794 button.colab-df-convert');\n",
       "      buttonEl.style.display =\n",
       "        google.colab.kernel.accessAllowed ? 'block' : 'none';\n",
       "\n",
       "      async function convertToInteractive(key) {\n",
       "        const element = document.querySelector('#df-f2675d8b-6d61-4f2e-b91f-6933ff951794');\n",
       "        const dataTable =\n",
       "          await google.colab.kernel.invokeFunction('convertToInteractive',\n",
       "                                                    [key], {});\n",
       "        if (!dataTable) return;\n",
       "\n",
       "        const docLinkHtml = 'Like what you see? Visit the ' +\n",
       "          '<a target=\"_blank\" href=https://colab.research.google.com/notebooks/data_table.ipynb>data table notebook</a>'\n",
       "          + ' to learn more about interactive tables.';\n",
       "        element.innerHTML = '';\n",
       "        dataTable['output_type'] = 'display_data';\n",
       "        await google.colab.output.renderOutput(dataTable, element);\n",
       "        const docLink = document.createElement('div');\n",
       "        docLink.innerHTML = docLinkHtml;\n",
       "        element.appendChild(docLink);\n",
       "      }\n",
       "    </script>\n",
       "  </div>\n",
       "\n",
       "\n",
       "<div id=\"df-31d98ac9-8f09-4964-8c9a-295962d33d58\">\n",
       "  <button class=\"colab-df-quickchart\" onclick=\"quickchart('df-31d98ac9-8f09-4964-8c9a-295962d33d58')\"\n",
       "            title=\"Suggest charts\"\n",
       "            style=\"display:none;\">\n",
       "\n",
       "<svg xmlns=\"http://www.w3.org/2000/svg\" height=\"24px\"viewBox=\"0 0 24 24\"\n",
       "     width=\"24px\">\n",
       "    <g>\n",
       "        <path d=\"M19 3H5c-1.1 0-2 .9-2 2v14c0 1.1.9 2 2 2h14c1.1 0 2-.9 2-2V5c0-1.1-.9-2-2-2zM9 17H7v-7h2v7zm4 0h-2V7h2v10zm4 0h-2v-4h2v4z\"/>\n",
       "    </g>\n",
       "</svg>\n",
       "  </button>\n",
       "\n",
       "<style>\n",
       "  .colab-df-quickchart {\n",
       "      --bg-color: #E8F0FE;\n",
       "      --fill-color: #1967D2;\n",
       "      --hover-bg-color: #E2EBFA;\n",
       "      --hover-fill-color: #174EA6;\n",
       "      --disabled-fill-color: #AAA;\n",
       "      --disabled-bg-color: #DDD;\n",
       "  }\n",
       "\n",
       "  [theme=dark] .colab-df-quickchart {\n",
       "      --bg-color: #3B4455;\n",
       "      --fill-color: #D2E3FC;\n",
       "      --hover-bg-color: #434B5C;\n",
       "      --hover-fill-color: #FFFFFF;\n",
       "      --disabled-bg-color: #3B4455;\n",
       "      --disabled-fill-color: #666;\n",
       "  }\n",
       "\n",
       "  .colab-df-quickchart {\n",
       "    background-color: var(--bg-color);\n",
       "    border: none;\n",
       "    border-radius: 50%;\n",
       "    cursor: pointer;\n",
       "    display: none;\n",
       "    fill: var(--fill-color);\n",
       "    height: 32px;\n",
       "    padding: 0;\n",
       "    width: 32px;\n",
       "  }\n",
       "\n",
       "  .colab-df-quickchart:hover {\n",
       "    background-color: var(--hover-bg-color);\n",
       "    box-shadow: 0 1px 2px rgba(60, 64, 67, 0.3), 0 1px 3px 1px rgba(60, 64, 67, 0.15);\n",
       "    fill: var(--button-hover-fill-color);\n",
       "  }\n",
       "\n",
       "  .colab-df-quickchart-complete:disabled,\n",
       "  .colab-df-quickchart-complete:disabled:hover {\n",
       "    background-color: var(--disabled-bg-color);\n",
       "    fill: var(--disabled-fill-color);\n",
       "    box-shadow: none;\n",
       "  }\n",
       "\n",
       "  .colab-df-spinner {\n",
       "    border: 2px solid var(--fill-color);\n",
       "    border-color: transparent;\n",
       "    border-bottom-color: var(--fill-color);\n",
       "    animation:\n",
       "      spin 1s steps(1) infinite;\n",
       "  }\n",
       "\n",
       "  @keyframes spin {\n",
       "    0% {\n",
       "      border-color: transparent;\n",
       "      border-bottom-color: var(--fill-color);\n",
       "      border-left-color: var(--fill-color);\n",
       "    }\n",
       "    20% {\n",
       "      border-color: transparent;\n",
       "      border-left-color: var(--fill-color);\n",
       "      border-top-color: var(--fill-color);\n",
       "    }\n",
       "    30% {\n",
       "      border-color: transparent;\n",
       "      border-left-color: var(--fill-color);\n",
       "      border-top-color: var(--fill-color);\n",
       "      border-right-color: var(--fill-color);\n",
       "    }\n",
       "    40% {\n",
       "      border-color: transparent;\n",
       "      border-right-color: var(--fill-color);\n",
       "      border-top-color: var(--fill-color);\n",
       "    }\n",
       "    60% {\n",
       "      border-color: transparent;\n",
       "      border-right-color: var(--fill-color);\n",
       "    }\n",
       "    80% {\n",
       "      border-color: transparent;\n",
       "      border-right-color: var(--fill-color);\n",
       "      border-bottom-color: var(--fill-color);\n",
       "    }\n",
       "    90% {\n",
       "      border-color: transparent;\n",
       "      border-bottom-color: var(--fill-color);\n",
       "    }\n",
       "  }\n",
       "</style>\n",
       "\n",
       "  <script>\n",
       "    async function quickchart(key) {\n",
       "      const quickchartButtonEl =\n",
       "        document.querySelector('#' + key + ' button');\n",
       "      quickchartButtonEl.disabled = true;  // To prevent multiple clicks.\n",
       "      quickchartButtonEl.classList.add('colab-df-spinner');\n",
       "      try {\n",
       "        const charts = await google.colab.kernel.invokeFunction(\n",
       "            'suggestCharts', [key], {});\n",
       "      } catch (error) {\n",
       "        console.error('Error during call to suggestCharts:', error);\n",
       "      }\n",
       "      quickchartButtonEl.classList.remove('colab-df-spinner');\n",
       "      quickchartButtonEl.classList.add('colab-df-quickchart-complete');\n",
       "    }\n",
       "    (() => {\n",
       "      let quickchartButtonEl =\n",
       "        document.querySelector('#df-31d98ac9-8f09-4964-8c9a-295962d33d58 button');\n",
       "      quickchartButtonEl.style.display =\n",
       "        google.colab.kernel.accessAllowed ? 'block' : 'none';\n",
       "    })();\n",
       "  </script>\n",
       "</div>\n",
       "\n",
       "    </div>\n",
       "  </div>\n"
      ],
      "text/plain": [
       "                                      Feature  Coefficient\n",
       "0                               Average_Score     0.316257\n",
       "1                     Total_Number_of_Reviews    -0.000033\n",
       "2  Total_Number_of_Reviews_Reviewer_Has_Given    -0.000210\n",
       "3                           Days_Since_Review    -0.000379\n",
       "4              Reviewer_Nationality_Australia    -0.394097"
      ]
     },
     "execution_count": 19,
     "metadata": {},
     "output_type": "execute_result"
    }
   ],
   "source": [
    "## Obtaining the coefficients of the trained model\n",
    "coefficients = logmodel.coef_[0]\n",
    "\n",
    "# DataFrame with the coeficients\n",
    "# Creating a DataFrame to organize the feature names and their corresponding coefficients\n",
    "coef_df = pd.DataFrame({'Feature': X_train_final_df.columns,'Coefficient': coefficients})\n",
    "\n",
    "coef_df.head() # This will show the top 5 features along with their coefficients"
   ]
  },
  {
   "cell_type": "code",
   "execution_count": 20,
   "id": "Ub4Oepk4TWbY",
   "metadata": {
    "id": "Ub4Oepk4TWbY"
   },
   "outputs": [],
   "source": [
    "# Sorting by coefficients (possitive words)\n",
    "\n",
    "# Filtering the coefficients DataFrame to include only features that start with 'pos_'\n",
    "# Sorting these features by their coefficients in descending order to find the top 20 positive words\n",
    "top_pos_words = coef_df[coef_df['Feature'].str.startswith('pos_')].sort_values(by='Coefficient', ascending=False).head(20)\n",
    "\n",
    "# Sorting by coefficients (negative words)\n",
    "\n",
    "# Filtering the coefficients DataFrame to include only features that start with 'neg_'\n",
    "# Sorting these features by their coefficients in ascending order to find the top 20 negative words\n",
    "top_neg_words = coef_df[coef_df['Feature'].str.startswith('neg_')].sort_values(by='Coefficient', ascending=True).head(20)"
   ]
  },
  {
   "cell_type": "markdown",
   "id": "ildwzU6pe7qm",
   "metadata": {
    "id": "ildwzU6pe7qm"
   },
   "source": [
    "As you can see, the main words that describe the positive or negative prediction for prediction based on the coefficient are:\n",
    "\n"
   ]
  },
  {
   "cell_type": "code",
   "execution_count": 21,
   "id": "jW8AKpEAfKNL",
   "metadata": {
    "colab": {
     "base_uri": "https://localhost:8080/"
    },
    "id": "jW8AKpEAfKNL",
    "outputId": "645548a1-1a74-48ea-c654-ee4eef50612d"
   },
   "outputs": [
    {
     "name": "stdout",
     "output_type": "stream",
     "text": [
      "Top 20 positive words:\n",
      "            Feature  Coefficient\n",
      "172  pos_everything     1.567059\n",
      "34      pos_amazing     1.054626\n",
      "340     pos_perfect     0.974402\n",
      "188   pos_fantastic     0.854274\n",
      "174   pos_excellent     0.730497\n",
      "65    pos_beautiful     0.691298\n",
      "280       pos_loved     0.668627\n",
      "394     pos_service     0.633782\n",
      "421       pos_staff     0.609592\n",
      "510   pos_wonderful     0.584755\n",
      "281      pos_lovely     0.475452\n",
      "69         pos_best     0.459558\n",
      "440      pos_superb     0.441961\n",
      "439       pos_super     0.414679\n",
      "185    pos_facility     0.408641\n",
      "170       pos_every     0.401598\n",
      "136  pos_definitely     0.400365\n",
      "425        pos_stay     0.398880\n",
      "81    pos_brilliant     0.393343\n",
      "301      pos_modern     0.380186\n",
      "__________________________________\n",
      "Top 20 negative words:\n",
      "               Feature  Coefficient\n",
      "858           neg_poor    -0.912310\n",
      "928          neg_staff    -0.840095\n",
      "829            neg_old    -0.779222\n",
      "931           neg_star    -0.636602\n",
      "768       neg_location    -0.606054\n",
      "642          neg_dirty    -0.604167\n",
      "558       neg_bathroom    -0.583315\n",
      "821          neg_noisy    -0.540829\n",
      "559            neg_bed    -0.528997\n",
      "959          neg_tired    -0.517944\n",
      "888           neg_room    -0.494389\n",
      "958           neg_tiny    -0.477224\n",
      "582         neg_carpet    -0.444687\n",
      "805          neg_money    -0.444448\n",
      "630          neg_dated    -0.439881\n",
      "876      neg_reception    -0.439101\n",
      "599          neg_clean    -0.438014\n",
      "889           neg_rude    -0.434044\n",
      "677       neg_facility    -0.431839\n",
      "979  neg_uncomfortable    -0.425987\n"
     ]
    }
   ],
   "source": [
    "# Printing the top 20 positive words and their coefficients\n",
    "print(\"Top 20 positive words:\")\n",
    "print(top_pos_words)  # Displaying the DataFrame containing the top positive words and their corresponding coefficients\n",
    "\n",
    "print(\"__________________________________\")\n",
    "\n",
    "# Printing the top 20 negative words and their coefficients\n",
    "print(\"Top 20 negative words:\") # Displaying the DataFrame containing the top negative words and their corresponding coefficients\n",
    "print(top_neg_words)"
   ]
  },
  {
   "cell_type": "code",
   "execution_count": 22,
   "id": "t3Jimp-0bKQy",
   "metadata": {
    "colab": {
     "base_uri": "https://localhost:8080/",
     "height": 472
    },
    "id": "t3Jimp-0bKQy",
    "outputId": "a2e1fb82-88ef-4956-e29a-a987ab88bf3c"
   },
   "outputs": [
    {
     "data": {
      "image/png": "[encoded data removed]",
      "text/plain": [
       "<Figure size 640x480 with 1 Axes>"
      ]
     },
     "metadata": {},
     "output_type": "display_data"
    }
   ],
   "source": [
    "## Bar Graph displaying Top 20 positive words\n",
    "plt.barh(top_pos_words['Feature'], top_pos_words['Coefficient'], color='green')\n",
    "plt.xlabel('Coefficients')\n",
    "plt.title('Top 20 Positive Predictive Words')\n",
    "plt.show()"
   ]
  },
  {
   "cell_type": "code",
   "execution_count": 23,
   "id": "CQP6eeS_bdrN",
   "metadata": {
    "colab": {
     "base_uri": "https://localhost:8080/",
     "height": 472
    },
    "id": "CQP6eeS_bdrN",
    "outputId": "bbcba51b-ca91-4bcb-e364-7117c7c7af05"
   },
   "outputs": [
    {
     "data": {
      "image/png": "[encoded data removed]",
      "text/plain": [
       "<Figure size 640x480 with 1 Axes>"
      ]
     },
     "metadata": {},
     "output_type": "display_data"
    }
   ],
   "source": [
    "## Bar Graph displaying Top 20 negative words\n",
    "plt.barh(top_neg_words['Feature'], top_neg_words['Coefficient'], color='red')\n",
    "plt.xlabel('Coefficients')\n",
    "plt.title('Top 20 Negative Predictive Words')\n",
    "plt.show()"
   ]
  },
  {
   "cell_type": "markdown",
   "id": "803d7887-7af2-4aec-8777-898deec46aba",
   "metadata": {
    "id": "803d7887-7af2-4aec-8777-898deec46aba"
   },
   "source": [
    "### Top Words Predictive of Positive Sentiment:\n",
    "The top 20 most predictive words for positive reviews include terms like:\n",
    "\n",
    " - **Everything:** Customers often highlight that “everything” met or exceeded their expectations.\n",
    " - **Amazing, perfect, fantastic, excellent:** These words strongly suggest high satisfaction.\n",
    " - **Service, staff:** Customer interactions with staff and service are key contributors to positive experiences.\n",
    " - **Beautiful, wonderful, modern:** These words indicate that the hotel’s aesthetic appeal and modernity are highly valued by customers.\n",
    "\n",
    "These words suggest that hotels that offer excellent service, friendly staff, and aesthetically pleasing or modern environments are more likely to receive positive feedback."
   ]
  },
  {
   "cell_type": "markdown",
   "id": "2f638f1c-b682-4d13-8e96-9e6b5a45ba73",
   "metadata": {
    "id": "2f638f1c-b682-4d13-8e96-9e6b5a45ba73"
   },
   "source": [
    "### Top Words Predictive of Negative Sentiment:\n",
    "The top 20 words for negative reviews reveal common customer frustrations:\n",
    "\n",
    " - **Poor, dirty, old, dated:** These words point to dissatisfaction with the cleanliness, age, or upkeep of hotel facilities.\n",
    " - **Staff, rude, reception:** Negative interactions with staff, particularly at the reception, contribute significantly to negative experiences.\n",
    " - **Noisy, tiny, uncomfortable:** Issues with room size, noise levels, and general discomfort are frequently mentioned in negative reviews.\n",
    "\n",
    "These terms indicate that customers are most dissatisfied when hotels fail to maintain cleanliness, provide comfortable spaces, or deliver courteous service."
   ]
  },
  {
   "cell_type": "markdown",
   "id": "6cGXT5r5f51F",
   "metadata": {
    "id": "6cGXT5r5f51F"
   },
   "source": [
    "## Pipeline, combine PCA with a decision tree classifier <a class=\"anchor\" id=\"pipe\"></a>\n",
    "\n",
    "Create a pipeline that combines PCA and a decision tree classifier:\n"
   ]
  },
  {
   "cell_type": "code",
   "execution_count": 24,
   "id": "n8TVqJLXf7wU",
   "metadata": {
    "id": "n8TVqJLXf7wU"
   },
   "outputs": [],
   "source": [
    "# Define a list of estimators to be used in the pipeline\n",
    "estimators = [('reduce_dim', PCA(n_components=20)),   # Applying PCA for dimensionality reduction, keeping 20 principal components\n",
    "              ('tree', DecisionTreeClassifier(random_state=42))]  # Using a Decision Tree Classifier for classification tasks\n",
    "\n",
    "pipe = Pipeline(estimators)  # Create a pipeline that sequentially applies the defined estimators"
   ]
  },
  {
   "cell_type": "code",
   "execution_count": 25,
   "id": "IcbK74_4m6qS",
   "metadata": {
    "id": "IcbK74_4m6qS"
   },
   "outputs": [],
   "source": [
    "# Hyperparameters to optimize for the Decision Tree Classifier\n",
    "\n",
    "# This dictionary is used to specify the hyperparameters to optimize for the DecisionTreeClassifier\n",
    "param = {\n",
    "    'tree__max_depth': [5, 10, 15, 20],  # Maximum depth of the tree. Limits how deep the tree can grow.\n",
    "    'tree__min_samples_leaf': [1, 2, 4],  # Minimum number of samples required to be at a leaf node.\n",
    "    'tree__min_samples_split': [2, 5, 10],  # Minimum number of samples required to split an internal node.\n",
    "}"
   ]
  },
  {
   "cell_type": "markdown",
   "id": "35003102-eed9-4040-b7ed-c7ae72659574",
   "metadata": {
    "id": "35003102-eed9-4040-b7ed-c7ae72659574"
   },
   "source": [
    "### Hyperparameters:\n",
    "\n",
    "**max_depth:** This parameter sets the maximum depth of the tree. By limiting the depth, to help to prevent overfitting by controlling how complex the model can become. The provided values [5, 10, 15, 20] represent different depth limits to test.\n",
    "\n",
    "**min_samples_leaf:** This parameter determines the minimum number of samples that must be present in a leaf node. This helps to control the number of leaf nodes. The values [1, 2, 4] are used to evaluate different minimum samples.\n",
    "\n",
    "**min_samples_split:** This parameter defines the minimum number of samples required to split an internal node. Higher values prevent the model from learning overly specific patterns (which can lead to overfitting). The options [2, 5, 10] specify the minimum number of samples to try splitting a node."
   ]
  },
  {
   "cell_type": "code",
   "execution_count": 26,
   "id": "Ds8mg1fPx4UR",
   "metadata": {
    "colab": {
     "base_uri": "https://localhost:8080/",
     "height": 229
    },
    "id": "Ds8mg1fPx4UR",
    "outputId": "34a78997-c753-4ca7-9cfa-61b6767e5b56"
   },
   "outputs": [
    {
     "name": "stderr",
     "output_type": "stream",
     "text": [
      "/usr/local/lib/python3.10/dist-packages/numpy/ma/core.py:2820: RuntimeWarning: invalid value encountered in cast\n",
      "  _data = np.array(data, dtype=dtype, copy=copy,\n"
     ]
    },
    {
     "data": {
      "text/html": [
       "<style>#sk-container-id-1 {\n",
       "  /* Definition of color scheme common for light and dark mode */\n",
       "  --sklearn-color-text: black;\n",
       "  --sklearn-color-line: gray;\n",
       "  /* Definition of color scheme for unfitted estimators */\n",
       "  --sklearn-color-unfitted-level-0: #fff5e6;\n",
       "  --sklearn-color-unfitted-level-1: #f6e4d2;\n",
       "  --sklearn-color-unfitted-level-2: #ffe0b3;\n",
       "  --sklearn-color-unfitted-level-3: chocolate;\n",
       "  /* Definition of color scheme for fitted estimators */\n",
       "  --sklearn-color-fitted-level-0: #f0f8ff;\n",
       "  --sklearn-color-fitted-level-1: #d4ebff;\n",
       "  --sklearn-color-fitted-level-2: #b3dbfd;\n",
       "  --sklearn-color-fitted-level-3: cornflowerblue;\n",
       "\n",
       "  /* Specific color for light theme */\n",
       "  --sklearn-color-text-on-default-background: var(--sg-text-color, var(--theme-code-foreground, var(--jp-content-font-color1, black)));\n",
       "  --sklearn-color-background: var(--sg-background-color, var(--theme-background, var(--jp-layout-color0, white)));\n",
       "  --sklearn-color-border-box: var(--sg-text-color, var(--theme-code-foreground, var(--jp-content-font-color1, black)));\n",
       "  --sklearn-color-icon: #696969;\n",
       "\n",
       "  @media (prefers-color-scheme: dark) {\n",
       "    /* Redefinition of color scheme for dark theme */\n",
       "    --sklearn-color-text-on-default-background: var(--sg-text-color, var(--theme-code-foreground, var(--jp-content-font-color1, white)));\n",
       "    --sklearn-color-background: var(--sg-background-color, var(--theme-background, var(--jp-layout-color0, #111)));\n",
       "    --sklearn-color-border-box: var(--sg-text-color, var(--theme-code-foreground, var(--jp-content-font-color1, white)));\n",
       "    --sklearn-color-icon: #878787;\n",
       "  }\n",
       "}\n",
       "\n",
       "#sk-container-id-1 {\n",
       "  color: var(--sklearn-color-text);\n",
       "}\n",
       "\n",
       "#sk-container-id-1 pre {\n",
       "  padding: 0;\n",
       "}\n",
       "\n",
       "#sk-container-id-1 input.sk-hidden--visually {\n",
       "  border: 0;\n",
       "  clip: rect(1px 1px 1px 1px);\n",
       "  clip: rect(1px, 1px, 1px, 1px);\n",
       "  height: 1px;\n",
       "  margin: -1px;\n",
       "  overflow: hidden;\n",
       "  padding: 0;\n",
       "  position: absolute;\n",
       "  width: 1px;\n",
       "}\n",
       "\n",
       "#sk-container-id-1 div.sk-dashed-wrapped {\n",
       "  border: 1px dashed var(--sklearn-color-line);\n",
       "  margin: 0 0.4em 0.5em 0.4em;\n",
       "  box-sizing: border-box;\n",
       "  padding-bottom: 0.4em;\n",
       "  background-color: var(--sklearn-color-background);\n",
       "}\n",
       "\n",
       "#sk-container-id-1 div.sk-container {\n",
       "  /* jupyter's `normalize.less` sets `[hidden] { display: none; }`\n",
       "     but bootstrap.min.css set `[hidden] { display: none !important; }`\n",
       "     so we also need the `!important` here to be able to override the\n",
       "     default hidden behavior on the sphinx rendered scikit-learn.org.\n",
       "     See: https://github.com/scikit-learn/scikit-learn/issues/21755 */\n",
       "  display: inline-block !important;\n",
       "  position: relative;\n",
       "}\n",
       "\n",
       "#sk-container-id-1 div.sk-text-repr-fallback {\n",
       "  display: none;\n",
       "}\n",
       "\n",
       "div.sk-parallel-item,\n",
       "div.sk-serial,\n",
       "div.sk-item {\n",
       "  /* draw centered vertical line to link estimators */\n",
       "  background-image: linear-gradient(var(--sklearn-color-text-on-default-background), var(--sklearn-color-text-on-default-background));\n",
       "  background-size: 2px 100%;\n",
       "  background-repeat: no-repeat;\n",
       "  background-position: center center;\n",
       "}\n",
       "\n",
       "/* Parallel-specific style estimator block */\n",
       "\n",
       "#sk-container-id-1 div.sk-parallel-item::after {\n",
       "  content: \"\";\n",
       "  width: 100%;\n",
       "  border-bottom: 2px solid var(--sklearn-color-text-on-default-background);\n",
       "  flex-grow: 1;\n",
       "}\n",
       "\n",
       "#sk-container-id-1 div.sk-parallel {\n",
       "  display: flex;\n",
       "  align-items: stretch;\n",
       "  justify-content: center;\n",
       "  background-color: var(--sklearn-color-background);\n",
       "  position: relative;\n",
       "}\n",
       "\n",
       "#sk-container-id-1 div.sk-parallel-item {\n",
       "  display: flex;\n",
       "  flex-direction: column;\n",
       "}\n",
       "\n",
       "#sk-container-id-1 div.sk-parallel-item:first-child::after {\n",
       "  align-self: flex-end;\n",
       "  width: 50%;\n",
       "}\n",
       "\n",
       "#sk-container-id-1 div.sk-parallel-item:last-child::after {\n",
       "  align-self: flex-start;\n",
       "  width: 50%;\n",
       "}\n",
       "\n",
       "#sk-container-id-1 div.sk-parallel-item:only-child::after {\n",
       "  width: 0;\n",
       "}\n",
       "\n",
       "/* Serial-specific style estimator block */\n",
       "\n",
       "#sk-container-id-1 div.sk-serial {\n",
       "  display: flex;\n",
       "  flex-direction: column;\n",
       "  align-items: center;\n",
       "  background-color: var(--sklearn-color-background);\n",
       "  padding-right: 1em;\n",
       "  padding-left: 1em;\n",
       "}\n",
       "\n",
       "\n",
       "/* Toggleable style: style used for estimator/Pipeline/ColumnTransformer box that is\n",
       "clickable and can be expanded/collapsed.\n",
       "- Pipeline and ColumnTransformer use this feature and define the default style\n",
       "- Estimators will overwrite some part of the style using the `sk-estimator` class\n",
       "*/\n",
       "\n",
       "/* Pipeline and ColumnTransformer style (default) */\n",
       "\n",
       "#sk-container-id-1 div.sk-toggleable {\n",
       "  /* Default theme specific background. It is overwritten whether we have a\n",
       "  specific estimator or a Pipeline/ColumnTransformer */\n",
       "  background-color: var(--sklearn-color-background);\n",
       "}\n",
       "\n",
       "/* Toggleable label */\n",
       "#sk-container-id-1 label.sk-toggleable__label {\n",
       "  cursor: pointer;\n",
       "  display: block;\n",
       "  width: 100%;\n",
       "  margin-bottom: 0;\n",
       "  padding: 0.5em;\n",
       "  box-sizing: border-box;\n",
       "  text-align: center;\n",
       "}\n",
       "\n",
       "#sk-container-id-1 label.sk-toggleable__label-arrow:before {\n",
       "  /* Arrow on the left of the label */\n",
       "  content: \"▸\";\n",
       "  float: left;\n",
       "  margin-right: 0.25em;\n",
       "  color: var(--sklearn-color-icon);\n",
       "}\n",
       "\n",
       "#sk-container-id-1 label.sk-toggleable__label-arrow:hover:before {\n",
       "  color: var(--sklearn-color-text);\n",
       "}\n",
       "\n",
       "/* Toggleable content - dropdown */\n",
       "\n",
       "#sk-container-id-1 div.sk-toggleable__content {\n",
       "  max-height: 0;\n",
       "  max-width: 0;\n",
       "  overflow: hidden;\n",
       "  text-align: left;\n",
       "  /* unfitted */\n",
       "  background-color: var(--sklearn-color-unfitted-level-0);\n",
       "}\n",
       "\n",
       "#sk-container-id-1 div.sk-toggleable__content.fitted {\n",
       "  /* fitted */\n",
       "  background-color: var(--sklearn-color-fitted-level-0);\n",
       "}\n",
       "\n",
       "#sk-container-id-1 div.sk-toggleable__content pre {\n",
       "  margin: 0.2em;\n",
       "  border-radius: 0.25em;\n",
       "  color: var(--sklearn-color-text);\n",
       "  /* unfitted */\n",
       "  background-color: var(--sklearn-color-unfitted-level-0);\n",
       "}\n",
       "\n",
       "#sk-container-id-1 div.sk-toggleable__content.fitted pre {\n",
       "  /* unfitted */\n",
       "  background-color: var(--sklearn-color-fitted-level-0);\n",
       "}\n",
       "\n",
       "#sk-container-id-1 input.sk-toggleable__control:checked~div.sk-toggleable__content {\n",
       "  /* Expand drop-down */\n",
       "  max-height: 200px;\n",
       "  max-width: 100%;\n",
       "  overflow: auto;\n",
       "}\n",
       "\n",
       "#sk-container-id-1 input.sk-toggleable__control:checked~label.sk-toggleable__label-arrow:before {\n",
       "  content: \"▾\";\n",
       "}\n",
       "\n",
       "/* Pipeline/ColumnTransformer-specific style */\n",
       "\n",
       "#sk-container-id-1 div.sk-label input.sk-toggleable__control:checked~label.sk-toggleable__label {\n",
       "  color: var(--sklearn-color-text);\n",
       "  background-color: var(--sklearn-color-unfitted-level-2);\n",
       "}\n",
       "\n",
       "#sk-container-id-1 div.sk-label.fitted input.sk-toggleable__control:checked~label.sk-toggleable__label {\n",
       "  background-color: var(--sklearn-color-fitted-level-2);\n",
       "}\n",
       "\n",
       "/* Estimator-specific style */\n",
       "\n",
       "/* Colorize estimator box */\n",
       "#sk-container-id-1 div.sk-estimator input.sk-toggleable__control:checked~label.sk-toggleable__label {\n",
       "  /* unfitted */\n",
       "  background-color: var(--sklearn-color-unfitted-level-2);\n",
       "}\n",
       "\n",
       "#sk-container-id-1 div.sk-estimator.fitted input.sk-toggleable__control:checked~label.sk-toggleable__label {\n",
       "  /* fitted */\n",
       "  background-color: var(--sklearn-color-fitted-level-2);\n",
       "}\n",
       "\n",
       "#sk-container-id-1 div.sk-label label.sk-toggleable__label,\n",
       "#sk-container-id-1 div.sk-label label {\n",
       "  /* The background is the default theme color */\n",
       "  color: var(--sklearn-color-text-on-default-background);\n",
       "}\n",
       "\n",
       "/* On hover, darken the color of the background */\n",
       "#sk-container-id-1 div.sk-label:hover label.sk-toggleable__label {\n",
       "  color: var(--sklearn-color-text);\n",
       "  background-color: var(--sklearn-color-unfitted-level-2);\n",
       "}\n",
       "\n",
       "/* Label box, darken color on hover, fitted */\n",
       "#sk-container-id-1 div.sk-label.fitted:hover label.sk-toggleable__label.fitted {\n",
       "  color: var(--sklearn-color-text);\n",
       "  background-color: var(--sklearn-color-fitted-level-2);\n",
       "}\n",
       "\n",
       "/* Estimator label */\n",
       "\n",
       "#sk-container-id-1 div.sk-label label {\n",
       "  font-family: monospace;\n",
       "  font-weight: bold;\n",
       "  display: inline-block;\n",
       "  line-height: 1.2em;\n",
       "}\n",
       "\n",
       "#sk-container-id-1 div.sk-label-container {\n",
       "  text-align: center;\n",
       "}\n",
       "\n",
       "/* Estimator-specific */\n",
       "#sk-container-id-1 div.sk-estimator {\n",
       "  font-family: monospace;\n",
       "  border: 1px dotted var(--sklearn-color-border-box);\n",
       "  border-radius: 0.25em;\n",
       "  box-sizing: border-box;\n",
       "  margin-bottom: 0.5em;\n",
       "  /* unfitted */\n",
       "  background-color: var(--sklearn-color-unfitted-level-0);\n",
       "}\n",
       "\n",
       "#sk-container-id-1 div.sk-estimator.fitted {\n",
       "  /* fitted */\n",
       "  background-color: var(--sklearn-color-fitted-level-0);\n",
       "}\n",
       "\n",
       "/* on hover */\n",
       "#sk-container-id-1 div.sk-estimator:hover {\n",
       "  /* unfitted */\n",
       "  background-color: var(--sklearn-color-unfitted-level-2);\n",
       "}\n",
       "\n",
       "#sk-container-id-1 div.sk-estimator.fitted:hover {\n",
       "  /* fitted */\n",
       "  background-color: var(--sklearn-color-fitted-level-2);\n",
       "}\n",
       "\n",
       "/* Specification for estimator info (e.g. \"i\" and \"?\") */\n",
       "\n",
       "/* Common style for \"i\" and \"?\" */\n",
       "\n",
       ".sk-estimator-doc-link,\n",
       "a:link.sk-estimator-doc-link,\n",
       "a:visited.sk-estimator-doc-link {\n",
       "  float: right;\n",
       "  font-size: smaller;\n",
       "  line-height: 1em;\n",
       "  font-family: monospace;\n",
       "  background-color: var(--sklearn-color-background);\n",
       "  border-radius: 1em;\n",
       "  height: 1em;\n",
       "  width: 1em;\n",
       "  text-decoration: none !important;\n",
       "  margin-left: 1ex;\n",
       "  /* unfitted */\n",
       "  border: var(--sklearn-color-unfitted-level-1) 1pt solid;\n",
       "  color: var(--sklearn-color-unfitted-level-1);\n",
       "}\n",
       "\n",
       ".sk-estimator-doc-link.fitted,\n",
       "a:link.sk-estimator-doc-link.fitted,\n",
       "a:visited.sk-estimator-doc-link.fitted {\n",
       "  /* fitted */\n",
       "  border: var(--sklearn-color-fitted-level-1) 1pt solid;\n",
       "  color: var(--sklearn-color-fitted-level-1);\n",
       "}\n",
       "\n",
       "/* On hover */\n",
       "div.sk-estimator:hover .sk-estimator-doc-link:hover,\n",
       ".sk-estimator-doc-link:hover,\n",
       "div.sk-label-container:hover .sk-estimator-doc-link:hover,\n",
       ".sk-estimator-doc-link:hover {\n",
       "  /* unfitted */\n",
       "  background-color: var(--sklearn-color-unfitted-level-3);\n",
       "  color: var(--sklearn-color-background);\n",
       "  text-decoration: none;\n",
       "}\n",
       "\n",
       "div.sk-estimator.fitted:hover .sk-estimator-doc-link.fitted:hover,\n",
       ".sk-estimator-doc-link.fitted:hover,\n",
       "div.sk-label-container:hover .sk-estimator-doc-link.fitted:hover,\n",
       ".sk-estimator-doc-link.fitted:hover {\n",
       "  /* fitted */\n",
       "  background-color: var(--sklearn-color-fitted-level-3);\n",
       "  color: var(--sklearn-color-background);\n",
       "  text-decoration: none;\n",
       "}\n",
       "\n",
       "/* Span, style for the box shown on hovering the info icon */\n",
       ".sk-estimator-doc-link span {\n",
       "  display: none;\n",
       "  z-index: 9999;\n",
       "  position: relative;\n",
       "  font-weight: normal;\n",
       "  right: .2ex;\n",
       "  padding: .5ex;\n",
       "  margin: .5ex;\n",
       "  width: min-content;\n",
       "  min-width: 20ex;\n",
       "  max-width: 50ex;\n",
       "  color: var(--sklearn-color-text);\n",
       "  box-shadow: 2pt 2pt 4pt #999;\n",
       "  /* unfitted */\n",
       "  background: var(--sklearn-color-unfitted-level-0);\n",
       "  border: .5pt solid var(--sklearn-color-unfitted-level-3);\n",
       "}\n",
       "\n",
       ".sk-estimator-doc-link.fitted span {\n",
       "  /* fitted */\n",
       "  background: var(--sklearn-color-fitted-level-0);\n",
       "  border: var(--sklearn-color-fitted-level-3);\n",
       "}\n",
       "\n",
       ".sk-estimator-doc-link:hover span {\n",
       "  display: block;\n",
       "}\n",
       "\n",
       "/* \"?\"-specific style due to the `<a>` HTML tag */\n",
       "\n",
       "#sk-container-id-1 a.estimator_doc_link {\n",
       "  float: right;\n",
       "  font-size: 1rem;\n",
       "  line-height: 1em;\n",
       "  font-family: monospace;\n",
       "  background-color: var(--sklearn-color-background);\n",
       "  border-radius: 1rem;\n",
       "  height: 1rem;\n",
       "  width: 1rem;\n",
       "  text-decoration: none;\n",
       "  /* unfitted */\n",
       "  color: var(--sklearn-color-unfitted-level-1);\n",
       "  border: var(--sklearn-color-unfitted-level-1) 1pt solid;\n",
       "}\n",
       "\n",
       "#sk-container-id-1 a.estimator_doc_link.fitted {\n",
       "  /* fitted */\n",
       "  border: var(--sklearn-color-fitted-level-1) 1pt solid;\n",
       "  color: var(--sklearn-color-fitted-level-1);\n",
       "}\n",
       "\n",
       "/* On hover */\n",
       "#sk-container-id-1 a.estimator_doc_link:hover {\n",
       "  /* unfitted */\n",
       "  background-color: var(--sklearn-color-unfitted-level-3);\n",
       "  color: var(--sklearn-color-background);\n",
       "  text-decoration: none;\n",
       "}\n",
       "\n",
       "#sk-container-id-1 a.estimator_doc_link.fitted:hover {\n",
       "  /* fitted */\n",
       "  background-color: var(--sklearn-color-fitted-level-3);\n",
       "}\n",
       "</style><div id=\"sk-container-id-1\" class=\"sk-top-container\"><div class=\"sk-text-repr-fallback\"><pre>GridSearchCV(cv=5,\n",
       "             estimator=Pipeline(steps=[(&#x27;reduce_dim&#x27;, PCA(n_components=20)),\n",
       "                                       (&#x27;tree&#x27;,\n",
       "                                        DecisionTreeClassifier(random_state=42))]),\n",
       "             param_grid={&#x27;tree__max_depth&#x27;: [5, 10, 15, 20],\n",
       "                         &#x27;tree__min_samples_leaf&#x27;: [1, 2, 4],\n",
       "                         &#x27;tree__min_samples_split&#x27;: [2, 5, 10]},\n",
       "             scoring=&#x27;accuracy&#x27;)</pre><b>In a Jupyter environment, please rerun this cell to show the HTML representation or trust the notebook. <br />On GitHub, the HTML representation is unable to render, please try loading this page with nbviewer.org.</b></div><div class=\"sk-container\" hidden><div class=\"sk-item sk-dashed-wrapped\"><div class=\"sk-label-container\"><div class=\"sk-label fitted sk-toggleable\"><input class=\"sk-toggleable__control sk-hidden--visually\" id=\"sk-estimator-id-1\" type=\"checkbox\" ><label for=\"sk-estimator-id-1\" class=\"sk-toggleable__label fitted sk-toggleable__label-arrow fitted\">&nbsp;&nbsp;GridSearchCV<a class=\"sk-estimator-doc-link fitted\" rel=\"noreferrer\" target=\"_blank\" href=\"https://scikit-learn.org/1.5/modules/generated/sklearn.model_selection.GridSearchCV.html\">?<span>Documentation for GridSearchCV</span></a><span class=\"sk-estimator-doc-link fitted\">i<span>Fitted</span></span></label><div class=\"sk-toggleable__content fitted\"><pre>GridSearchCV(cv=5,\n",
       "             estimator=Pipeline(steps=[(&#x27;reduce_dim&#x27;, PCA(n_components=20)),\n",
       "                                       (&#x27;tree&#x27;,\n",
       "                                        DecisionTreeClassifier(random_state=42))]),\n",
       "             param_grid={&#x27;tree__max_depth&#x27;: [5, 10, 15, 20],\n",
       "                         &#x27;tree__min_samples_leaf&#x27;: [1, 2, 4],\n",
       "                         &#x27;tree__min_samples_split&#x27;: [2, 5, 10]},\n",
       "             scoring=&#x27;accuracy&#x27;)</pre></div> </div></div><div class=\"sk-parallel\"><div class=\"sk-parallel-item\"><div class=\"sk-item\"><div class=\"sk-label-container\"><div class=\"sk-label fitted sk-toggleable\"><input class=\"sk-toggleable__control sk-hidden--visually\" id=\"sk-estimator-id-2\" type=\"checkbox\" ><label for=\"sk-estimator-id-2\" class=\"sk-toggleable__label fitted sk-toggleable__label-arrow fitted\">best_estimator_: Pipeline</label><div class=\"sk-toggleable__content fitted\"><pre>Pipeline(steps=[(&#x27;reduce_dim&#x27;, PCA(n_components=20)),\n",
       "                (&#x27;tree&#x27;,\n",
       "                 DecisionTreeClassifier(max_depth=10, min_samples_leaf=4,\n",
       "                                        random_state=42))])</pre></div> </div></div><div class=\"sk-serial\"><div class=\"sk-item\"><div class=\"sk-serial\"><div class=\"sk-item\"><div class=\"sk-estimator fitted sk-toggleable\"><input class=\"sk-toggleable__control sk-hidden--visually\" id=\"sk-estimator-id-3\" type=\"checkbox\" ><label for=\"sk-estimator-id-3\" class=\"sk-toggleable__label fitted sk-toggleable__label-arrow fitted\">&nbsp;PCA<a class=\"sk-estimator-doc-link fitted\" rel=\"noreferrer\" target=\"_blank\" href=\"https://scikit-learn.org/1.5/modules/generated/sklearn.decomposition.PCA.html\">?<span>Documentation for PCA</span></a></label><div class=\"sk-toggleable__content fitted\"><pre>PCA(n_components=20)</pre></div> </div></div><div class=\"sk-item\"><div class=\"sk-estimator fitted sk-toggleable\"><input class=\"sk-toggleable__control sk-hidden--visually\" id=\"sk-estimator-id-4\" type=\"checkbox\" ><label for=\"sk-estimator-id-4\" class=\"sk-toggleable__label fitted sk-toggleable__label-arrow fitted\">&nbsp;DecisionTreeClassifier<a class=\"sk-estimator-doc-link fitted\" rel=\"noreferrer\" target=\"_blank\" href=\"https://scikit-learn.org/1.5/modules/generated/sklearn.tree.DecisionTreeClassifier.html\">?<span>Documentation for DecisionTreeClassifier</span></a></label><div class=\"sk-toggleable__content fitted\"><pre>DecisionTreeClassifier(max_depth=10, min_samples_leaf=4, random_state=42)</pre></div> </div></div></div></div></div></div></div></div></div></div></div>"
      ],
      "text/plain": [
       "GridSearchCV(cv=5,\n",
       "             estimator=Pipeline(steps=[('reduce_dim', PCA(n_components=20)),\n",
       "                                       ('tree',\n",
       "                                        DecisionTreeClassifier(random_state=42))]),\n",
       "             param_grid={'tree__max_depth': [5, 10, 15, 20],\n",
       "                         'tree__min_samples_leaf': [1, 2, 4],\n",
       "                         'tree__min_samples_split': [2, 5, 10]},\n",
       "             scoring='accuracy')"
      ]
     },
     "execution_count": 26,
     "metadata": {},
     "output_type": "execute_result"
    }
   ],
   "source": [
    "# Fit the model using GridSearchCV with 5 fold cross validation\n",
    "\n",
    "# Initializes GridSearchCV object, which is used to search for the best combination of hyperparameters for the pipeline\n",
    "grid_search = GridSearchCV(pipe, param, cv=5, scoring='accuracy')\n",
    "\n",
    "# Parameters:\n",
    "# pipe: The pipeline containing the PCA and Decision Tree classifier.\n",
    "# param: The dictionary of hyperparameters to optimize, which was defined earlier.\n",
    "# cv=5: Specifies that 5-fold cross-validation will be used. This means the training data will be split into 5 parts.\n",
    "# scoring='accuracy': The scoring metric used to evaluate the performance of the model. In this case, accuracy will be used.\n",
    "\n",
    "# Perform the grid search to find the best hyperparameters\n",
    "grid_search.fit(X_train_final_df, y_train)"
   ]
  },
  {
   "cell_type": "code",
   "execution_count": 27,
   "id": "fl3lK_erx50Z",
   "metadata": {
    "colab": {
     "base_uri": "https://localhost:8080/"
    },
    "id": "fl3lK_erx50Z",
    "outputId": "91460eee-c1e8-44a4-9a66-1d5c7241acab"
   },
   "outputs": [
    {
     "name": "stdout",
     "output_type": "stream",
     "text": [
      "Best hyperparmeters: {'tree__max_depth': 10, 'tree__min_samples_leaf': 4, 'tree__min_samples_split': 2}\n",
      "Best precision: 0.7498\n"
     ]
    }
   ],
   "source": [
    "# Displaying the best hyperparameters found\n",
    "print(f\"Best hyperparmeters: {grid_search.best_params_}\")\n",
    "print(f\"Best precision: {grid_search.best_score_:.4f}\")"
   ]
  },
  {
   "cell_type": "code",
   "execution_count": 28,
   "id": "VoYqBry8nPlq",
   "metadata": {
    "colab": {
     "base_uri": "https://localhost:8080/"
    },
    "id": "VoYqBry8nPlq",
    "outputId": "9b06e5c2-315a-43a4-ac53-fa3a83f043d5"
   },
   "outputs": [
    {
     "name": "stdout",
     "output_type": "stream",
     "text": [
      "Test accuracy Decision Tree: 0.7496\n"
     ]
    }
   ],
   "source": [
    "# Evaluate the model on the test set using the best hyperparameters found in GridSearchCV\n",
    "y_test_pred_tree = grid_search.predict(X_test_final_df)\n",
    "\n",
    "# Calculate the accuracy score of the Decision Tree model on the test set\n",
    "test_accuracy_tree = accuracy_score(y_test, y_test_pred_tree)\n",
    "print(f\"Test accuracy Decision Tree: {test_accuracy_tree:.4f}\") # Display the test accuracy for the Decision Tree model"
   ]
  },
  {
   "cell_type": "code",
   "execution_count": 29,
   "id": "LHfQ4MvJn6_Z",
   "metadata": {
    "colab": {
     "base_uri": "https://localhost:8080/"
    },
    "id": "LHfQ4MvJn6_Z",
    "outputId": "04802f6c-719b-46ce-b9d7-9d4466b21bbf"
   },
   "outputs": [
    {
     "name": "stdout",
     "output_type": "stream",
     "text": [
      "Test accuracy Logistic Regression: 0.7827\n"
     ]
    }
   ],
   "source": [
    "# Compare the test accuracy of the Decision Tree model with the Logistic Regression model\n",
    "print(f\"Test accuracy Logistic Regression: {test_accuracy:.4f}\")"
   ]
  },
  {
   "cell_type": "markdown",
   "id": "WIZ5SUnuC2AI",
   "metadata": {
    "id": "WIZ5SUnuC2AI"
   },
   "source": [
    "**Comparison of Results:**\n",
    "\n",
    " - Decision Tree accuracy: 0.7505\n",
    "\n",
    " - Logistic Regression accuracy: 0.7827\n",
    "\n",
    "Logistic Regression performs better:\n",
    "The logistic regression model has a slightly higher accuracy (78.27%) compared to the decision tree (75.05%). This suggests that logistic regression may be generalizing better on this dataset.\n",
    "\n",
    "Decision Tree with PCA:\n",
    "Despite the dimensionality reduction with PCA, the decision tree does not outperform the logistic regression model.\n",
    "\n",
    "In conclusion, the logistic regression is showing better performance in terms of accuracy, which indicates that this model is generalizing better on the problem."
   ]
  },
  {
   "cell_type": "markdown",
   "id": "HB5tGwFlDvDn",
   "metadata": {
    "id": "HB5tGwFlDvDn"
   },
   "source": [
    "## Confusion matrix <a class=\"anchor\" id=\"confmatrix\"></a>"
   ]
  },
  {
   "cell_type": "code",
   "execution_count": 30,
   "id": "Wv72Y6VVEBsW",
   "metadata": {
    "colab": {
     "base_uri": "https://localhost:8080/"
    },
    "id": "Wv72Y6VVEBsW",
    "outputId": "6fcbd4b0-3b80-4531-e257-18f154ba442e"
   },
   "outputs": [
    {
     "name": "stdout",
     "output_type": "stream",
     "text": [
      "[[31812 12638]\n",
      " [ 9773 48925]]\n"
     ]
    }
   ],
   "source": [
    "# Generating confusion matrix\n",
    "conf_matrix = confusion_matrix(y_test, y_test_pred) # Create a confusion matrix using the true labels (y_test) and predicted labels (y_test_pred)\n",
    "print(conf_matrix)"
   ]
  },
  {
   "cell_type": "markdown",
   "id": "NWhyyKzIE_78",
   "metadata": {
    "id": "NWhyyKzIE_78"
   },
   "source": [
    "Negative Class (0):\n",
    "\n",
    "The model correctly predicts 31,812 negative cases.\n",
    "However, it makes 12,638 errors by falsely predicting that a negative case is positive (false positives).\n",
    "\n",
    "Positive Class (1):\n",
    "\n",
    "The model correctly predicts 48,925 positive cases.\n",
    "But it makes 9,773 errors by falsely predicting that a positive case is negative (false negatives)."
   ]
  },
  {
   "cell_type": "code",
   "execution_count": 31,
   "id": "2kbxshCIEDqv",
   "metadata": {
    "colab": {
     "base_uri": "https://localhost:8080/"
    },
    "id": "2kbxshCIEDqv",
    "outputId": "9910bf93-486a-4fba-ac51-ed85a59a51d4"
   },
   "outputs": [
    {
     "name": "stdout",
     "output_type": "stream",
     "text": [
      "              precision    recall  f1-score   support\n",
      "\n",
      "           0       0.76      0.72      0.74     44450\n",
      "           1       0.79      0.83      0.81     58698\n",
      "\n",
      "    accuracy                           0.78    103148\n",
      "   macro avg       0.78      0.77      0.78    103148\n",
      "weighted avg       0.78      0.78      0.78    103148\n",
      "\n"
     ]
    }
   ],
   "source": [
    "# Step 2: Generate classification report (includes precision, recall, and f1-score)\n",
    "print(classification_report(y_test, y_test_pred))  # Print a detailed classification report showing precision, recall, and f1-score for each class"
   ]
  },
  {
   "cell_type": "markdown",
   "id": "YwJsMiGHGTC7",
   "metadata": {
    "id": "YwJsMiGHGTC7"
   },
   "source": [
    "The positive class (1) has a better recall (0.83) than the negative class (0.72). This suggests that the model is better at correctly identifying positive cases than negative ones.\n",
    "The precision is also slightly higher for the positive class (0.79) compared to the negative class (0.76).\n",
    "\n",
    "Although the model is more accurate for the positive class, it performs reasonably well for the negative class as well.\n",
    "\n",
    "The lower recall for the negative class suggests that the model is missing more cases that should be classified as negative, which could be an area for improvement.\n",
    "\n",
    "Overall, logistic regression model performs well, with an accuracy of 78% and better performance for the positive class (1) than for the negative class (0)."
   ]
  },
  {
   "cell_type": "markdown",
   "id": "e7c0d135-59da-4781-9564-6776d003aa27",
   "metadata": {
    "id": "e7c0d135-59da-4781-9564-6776d003aa27"
   },
   "source": [
    "# 6. Finding Summary <a class=\"anchor\" id=\"findings\"></a>"
   ]
  },
  {
   "cell_type": "markdown",
   "id": "a8f06720-9309-4688-9deb-f9eeaf8cf1e1",
   "metadata": {
    "id": "a8f06720-9309-4688-9deb-f9eeaf8cf1e1"
   },
   "source": [
    "This analysis focuses on understanding customer sentiment based on hotel reviews, using text data and additional features from a hotel reviews dataset. The goal was to identify the key drivers of customer satisfaction and predict positive and negative reviews based on the given data. After performing data preprocessing, exploratory data analysis (EDA), and model building, we obtained the following insights and results."
   ]
  },
  {
   "cell_type": "markdown",
   "id": "4ac55836-1ea5-4ed6-9503-2de55cec6a32",
   "metadata": {
    "id": "4ac55836-1ea5-4ed6-9503-2de55cec6a32"
   },
   "source": [
    "### Key Insights from the Data:\n",
    "\n",
    "**Review Distribution:**\n",
    "\n",
    "57% of the reviews were classified as positive, and 43% were classified as negative. This indicates a slightly more favorable sentiment overall among customers.\n",
    "\n",
    "**Hotel Scores:**\n",
    "\n",
    "The majority of hotel scores fall between 7 and 9, suggesting that most customers are generally satisfied with their hotel experience but do not overwhelmingly rate it as perfect.\n",
    "\n",
    "**Length of Reviews:**\n",
    "\n",
    "Both positive and negative reviews tend to be brief, with most containing fewer than 50 words. This suggests that customers express their sentiments concisely, regardless of whether the feedback is positive or negative.\n",
    "Positive reviews are slightly longer on average than negative ones, possibly indicating that customers are more detailed when they have a good experience."
   ]
  },
  {
   "cell_type": "markdown",
   "id": "6b04d8e4-6d3d-42db-87eb-55ff4f534335",
   "metadata": {
    "id": "6b04d8e4-6d3d-42db-87eb-55ff4f534335"
   },
   "source": [
    "### Model Performance:\n",
    "Two models were developed and compared: a Logistic Regression model and a Decision Tree model combined with PCA.\n",
    "\n",
    "**Logistic Regression:**\n",
    "\n",
    " - Test Accuracy: 78.27%\n",
    " - This model demonstrated the best performance, showing strong generalization across the dataset.\n",
    " - Precision and recall metrics reveal that the model performs slightly better at identifying positive reviews (class 1) than negative reviews (class 0).\n",
    "\n",
    "**Decision Tree with PCA:**\n",
    "\n",
    " - Test Accuracy: 75.05%\n",
    " - While the decision tree model showed reasonable accuracy, it was outperformed by the logistic regression model.\n",
    " - Decision trees are prone to overfitting, even after applying PCA, which likely explains the lower accuracy compared to the logistic regression model."
   ]
  },
  {
   "cell_type": "markdown",
   "id": "3e0a30cf-4507-4245-b694-ffef9a1ef384",
   "metadata": {
    "id": "3e0a30cf-4507-4245-b694-ffef9a1ef384"
   },
   "source": [
    "## Conclusion:\n",
    "The logistic regression model performed the best, achieving 78.27% accuracy. The top predictive words for both positive and negative sentiments provide clear insights into the factors influencing customer satisfaction and dissatisfaction. Positive reviews focus on excellent service, friendly staff, and beautiful facilities, while negative reviews often cite poor cleanliness, uncomfortable rooms, and unprofessional staff interactions. Hotels can leverage these insights to improve their customer experience by addressing key areas of dissatisfaction and enhancing areas that are already contributing to positive feedback."
   ]
  }
 ],
 "metadata": {
  "colab": {
   "machine_shape": "hm",
   "provenance": []
  },
  "kernelspec": {
   "display_name": "Python 3 (ipykernel)",
   "language": "python",
   "name": "python3"
  },
  "language_info": {
   "codemirror_mode": {
    "name": "ipython",
    "version": 3
   },
   "file_extension": ".py",
   "mimetype": "text/x-python",
   "name": "python",
   "nbconvert_exporter": "python",
   "pygments_lexer": "ipython3",
   "version": "3.9.19"
  }
 },
 "nbformat": 4,
 "nbformat_minor": 5
}
